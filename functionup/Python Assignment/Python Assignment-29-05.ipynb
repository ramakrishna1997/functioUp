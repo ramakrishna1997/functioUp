{
 "cells": [
  {
   "cell_type": "code",
   "execution_count": 2,
   "id": "4caf49f8",
   "metadata": {},
   "outputs": [
    {
     "name": "stdout",
     "output_type": "stream",
     "text": [
      "Enter the Number :3\n",
      "The factorial of 6\n"
     ]
    }
   ],
   "source": [
    "# 1)Write a function called factorial that takes a positive integer as input and returns its factorial.\n",
    "def factorial():\n",
    "    n=int(input(\"Enter the Number :\"))\n",
    "    fact=1\n",
    "    if n<0:\n",
    "        print(\"the factorial does not have negative number\")\n",
    "    else:\n",
    "        for i in range(1,n+1):\n",
    "            fact=fact*i\n",
    "        print(f\"The factorial of {fact}\")\n",
    "factorial()"
   ]
  },
  {
   "cell_type": "code",
   "execution_count": 3,
   "id": "54b20409",
   "metadata": {},
   "outputs": [
    {
     "name": "stdout",
     "output_type": "stream",
     "text": [
      "Yes\n"
     ]
    }
   ],
   "source": [
    "# 2)Write a function called is_palindrome that takes a string as input and returns True if the string is a palindrome (reads the same forwards and backwards), and False otherwise.\n",
    "def is_palindrome():\n",
    "    n=\"RACECAR\"\n",
    "    reverse=n[::-1]\n",
    "    if n==reverse:\n",
    "        print(\"Yes\")\n",
    "    else:\n",
    "        print(\"No\")\n",
    "is_palindrome()"
   ]
  },
  {
   "cell_type": "code",
   "execution_count": 4,
   "id": "dbcd1b89",
   "metadata": {},
   "outputs": [
    {
     "name": "stdout",
     "output_type": "stream",
     "text": [
      "[1, 2, 3, 4, 5, 6, 7, 8, 9, 11]\n"
     ]
    }
   ],
   "source": [
    "# 3)Write a function called remove_duplicates that takes a list as input and returns a new list with all the duplicate elements removed, while maintaining the original order of elements.\n",
    "def remove_duplicates():\n",
    "    n=[1,2,3,4,5,5,6,6,7,7,8,7,8,9,9,1,11]\n",
    "    new_list=[]\n",
    "    for i in n:\n",
    "        if i not in new_list:\n",
    "            new_list.append(i)\n",
    "    print(new_list)\n",
    "remove_duplicates()"
   ]
  },
  {
   "cell_type": "code",
   "execution_count": 5,
   "id": "34898dc5",
   "metadata": {},
   "outputs": [
    {
     "name": "stdout",
     "output_type": "stream",
     "text": [
      "[5]\n"
     ]
    }
   ],
   "source": [
    "# 4)Write a function called common_elements that takes two lists as input and returns a new list containing the common elements between the two lists.\n",
    "def common_elements():\n",
    "    n=[1,2,3,4,5]\n",
    "    n1=[5,6,7,8,9]\n",
    "    l=set(n)\n",
    "    l1=set(n1)\n",
    "    new_list=list(l & l1)\n",
    "    print(new_list)\n",
    "common_elements()"
   ]
  },
  {
   "cell_type": "code",
   "execution_count": 38,
   "id": "53321d07",
   "metadata": {},
   "outputs": [
    {
     "name": "stdout",
     "output_type": "stream",
     "text": [
      "found at  0\n"
     ]
    }
   ],
   "source": [
    "# 5)Write a function called binary_search that takes a sorted list and a target value as input\n",
    "# and returns the index of the target value in the list, or -1 if the value is not found.\n",
    "pos=-1\n",
    "def binary_search(list,n):\n",
    "    global pos\n",
    "    l=0\n",
    "    u=len(list)-1\n",
    "    while l<=u:\n",
    "        mid=(l+u)//2\n",
    "        if list[mid]==n:\n",
    "            pos=mid\n",
    "            return True\n",
    "        else:\n",
    "            if list[mid]<n:\n",
    "                l=mid+1\n",
    "            else:\n",
    "                u=mid-1\n",
    "    return False\n",
    "list=[4,5,6,7,8,45,99]\n",
    "n=4\n",
    "if binary_search(list,n):\n",
    "    print(\"found at \",pos)\n",
    "else:\n",
    "    print(\"Not Found\")"
   ]
  },
  {
   "cell_type": "code",
   "execution_count": 44,
   "id": "69070675",
   "metadata": {},
   "outputs": [
    {
     "data": {
      "text/plain": [
       "[[1, 4], [2, 5], [3, 6]]"
      ]
     },
     "execution_count": 44,
     "metadata": {},
     "output_type": "execute_result"
    }
   ],
   "source": [
    "# 6)Write a function called matrix_transpose that takes a 2D matrix (a list of lists) as input\n",
    "# and returns the transpose of the matrix.\n",
    "def Transpose():\n",
    "    matrix=[[1,2,3],\n",
    "            [4,5,6]]\n",
    "    result=[[0,0],\n",
    "           [0,0],\n",
    "           [0,0]]\n",
    "    for i in range(len(matrix)):\n",
    "        for j in range(len(matrix[0])):\n",
    "            result[j][i]=matrix[i][j]\n",
    "    return result\n",
    "        \n",
    "Transpose()"
   ]
  },
  {
   "cell_type": "code",
   "execution_count": 47,
   "id": "47bb2e68",
   "metadata": {},
   "outputs": [
    {
     "data": {
      "text/plain": [
       "3"
      ]
     },
     "execution_count": 47,
     "metadata": {},
     "output_type": "execute_result"
    }
   ],
   "source": [
    "#  7)Write a function called find_missing_number that takes a list of integers from 1 to N\n",
    "# (inclusive) with one number missing, and returns the missing number.\n",
    "def find_missing_number():\n",
    "    n=[1,2,4,5,6,7,8]\n",
    "    l=len(n)\n",
    "    m=l+1\n",
    "    total=m*(m+1)//2\n",
    "    return total-sum(n)\n",
    "find_missing_number()"
   ]
  },
  {
   "cell_type": "code",
   "execution_count": 49,
   "id": "ffa7ba53",
   "metadata": {},
   "outputs": [
    {
     "name": "stdout",
     "output_type": "stream",
     "text": [
      "[1, 1, 2, 3, 4, 5, 6]\n"
     ]
    }
   ],
   "source": [
    "# 8)Write a function called flatten_list that takes a nested list as input and returns a flattened version of the list\n",
    "def flatten_list():\n",
    "    n=[[1],[1,2,3],[4,5,6]]\n",
    "    new_list=[]\n",
    "    for sub_list in n:\n",
    "        for num in sub_list:\n",
    "            new_list.append(num)\n",
    "    print(new_list)\n",
    "flatten_list()"
   ]
  },
  {
   "cell_type": "code",
   "execution_count": 61,
   "id": "fdd5aefb",
   "metadata": {},
   "outputs": [
    {
     "name": "stdout",
     "output_type": "stream",
     "text": [
      "Python\n",
      "Is\n",
      "A\n",
      "High-level,\n",
      "General-purpose\n",
      "Programming\n",
      "Language\n"
     ]
    }
   ],
   "source": [
    "# 9)Write a function called capitalize_words that takes a sentence as input and returns a new sentence where the first letter of each word is capitalized.\n",
    "def capitalze_word():\n",
    "    word=\"python is a high-level, general-purpose programming language\"\n",
    "    for words in word.split():\n",
    "        n=words.capitalize()\n",
    "        print(n,end=\"\\n\")\n",
    "capitalze_word()"
   ]
  },
  {
   "cell_type": "code",
   "execution_count": 64,
   "id": "e62d3e2e",
   "metadata": {},
   "outputs": [
    {
     "data": {
      "text/plain": [
       "False"
      ]
     },
     "execution_count": 64,
     "metadata": {},
     "output_type": "execute_result"
    }
   ],
   "source": [
    "# 10)Write a function called is_anagram that takes two strings as input and returns True if the\n",
    "# two strings are anagrams (contain the same characters in any order), and False\n",
    "# otherwise.\n",
    "def is_anagram(st1,str2):\n",
    "    if (sorted(str1)==sorted(str2)):\n",
    "        return True\n",
    "    else:\n",
    "        return False\n",
    "str1=\"king\"\n",
    "str2=\"care\"\n",
    "is_anagram(str1,str2)"
   ]
  },
  {
   "cell_type": "code",
   "execution_count": null,
   "id": "eec29926",
   "metadata": {},
   "outputs": [],
   "source": []
  },
  {
   "cell_type": "code",
   "execution_count": null,
   "id": "d8c9b295",
   "metadata": {},
   "outputs": [],
   "source": []
  },
  {
   "cell_type": "code",
   "execution_count": null,
   "id": "f11c77d5",
   "metadata": {},
   "outputs": [],
   "source": []
  },
  {
   "cell_type": "code",
   "execution_count": null,
   "id": "9c21ec0b",
   "metadata": {},
   "outputs": [],
   "source": []
  },
  {
   "cell_type": "code",
   "execution_count": null,
   "id": "125aa134",
   "metadata": {},
   "outputs": [],
   "source": []
  }
 ],
 "metadata": {
  "kernelspec": {
   "display_name": "Python 3 (ipykernel)",
   "language": "python",
   "name": "python3"
  },
  "language_info": {
   "codemirror_mode": {
    "name": "ipython",
    "version": 3
   },
   "file_extension": ".py",
   "mimetype": "text/x-python",
   "name": "python",
   "nbconvert_exporter": "python",
   "pygments_lexer": "ipython3",
   "version": "3.11.1"
  }
 },
 "nbformat": 4,
 "nbformat_minor": 5
}
