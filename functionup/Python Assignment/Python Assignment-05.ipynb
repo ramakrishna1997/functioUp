{
 "cells": [
  {
   "cell_type": "code",
   "execution_count": 2,
   "id": "00684f91",
   "metadata": {},
   "outputs": [
    {
     "name": "stdout",
     "output_type": "stream",
     "text": [
      "1\n",
      "2\n",
      "3\n",
      "4\n",
      "5\n",
      "6\n",
      "7\n",
      "8\n",
      "9\n",
      "10\n"
     ]
    }
   ],
   "source": [
    "#Exercise 1: Print First 10 natural numbers using while loop\n",
    "# Expected output:\n",
    "# 1\n",
    "# 2\n",
    "# 3\n",
    "# 4\n",
    "# 5\n",
    "# 6\n",
    "# 7\n",
    "# 8\n",
    "# 9\n",
    "# 10\n",
    "\n",
    "#sol)\n",
    "n=0\n",
    "while n<10:\n",
    "    n+=1\n",
    "    print(n)"
   ]
  },
  {
   "cell_type": "code",
   "execution_count": 17,
   "id": "523236ae",
   "metadata": {},
   "outputs": [
    {
     "name": "stdout",
     "output_type": "stream",
     "text": [
      "Enter the number :5\n",
      "1 \n",
      "1 2 \n",
      "1 2 3 \n",
      "1 2 3 4 \n",
      "1 2 3 4 5 \n"
     ]
    }
   ],
   "source": [
    "#2)Write a program to print the following number pattern using a loop.\n",
    "#sol)\n",
    "n=int(input(\"Enter the number :\"))\n",
    "for i in range(1,n+1):\n",
    "    for j in range(1,i+1):\n",
    "        print(j,end=\" \")\n",
    "    print()"
   ]
  },
  {
   "cell_type": "code",
   "execution_count": 22,
   "id": "81c0c0e5",
   "metadata": {},
   "outputs": [
    {
     "name": "stdout",
     "output_type": "stream",
     "text": [
      "Enter the number : 1\n",
      " The sum of all numbere from 11 to a given number 55\n"
     ]
    }
   ],
   "source": [
    "#3)Write a program to accept a number from a user and calculate the sum of all numbers from 1 to a given number\n",
    "#sol)\n",
    "n=int(input(\"Enter the number : \"))\n",
    "count=0\n",
    "while n<11:\n",
    "    count+=n\n",
    "    n+=1\n",
    "print(f' The sum of all numbere from {n} to a given number {count}')"
   ]
  },
  {
   "cell_type": "code",
   "execution_count": 23,
   "id": "ea132910",
   "metadata": {},
   "outputs": [
    {
     "name": "stdout",
     "output_type": "stream",
     "text": [
      "Enter the number : 2\n",
      "2 X 1 = 2\n",
      "2 X 2 = 4\n",
      "2 X 3 = 6\n",
      "2 X 4 = 8\n",
      "2 X 5 = 10\n",
      "2 X 6 = 12\n",
      "2 X 7 = 14\n",
      "2 X 8 = 16\n",
      "2 X 9 = 18\n",
      "2 X 10 = 20\n"
     ]
    }
   ],
   "source": [
    "#4)Exercise 4: Write a program to print multiplication table of a given number\n",
    "#sol;\n",
    "n=int(input(\"Enter the number : \"))\n",
    "for i in range(1,11):\n",
    "    print(n,\"X\",i,\"=\",n*i)"
   ]
  },
  {
   "cell_type": "code",
   "execution_count": 26,
   "id": "ef082e73",
   "metadata": {},
   "outputs": [
    {
     "name": "stdout",
     "output_type": "stream",
     "text": [
      "75\n",
      "150\n",
      "145\n"
     ]
    }
   ],
   "source": [
    "#5)Exercise 5: Display numbers from a list using loop\n",
    "#The number must be divisible by five\n",
    "#If the number is greater than 150, then skip it and move to the next number\n",
    "#If the number is greater than 500, then stop the loop\n",
    "#sol;\n",
    "numbers = [12, 75, 150, 180, 145, 525, 50]\n",
    "for x in numbers:\n",
    "    if x>500:\n",
    "        break\n",
    "    elif x>150:\n",
    "        continue\n",
    "    if x%5==0:\n",
    "        print(x)\n"
   ]
  },
  {
   "cell_type": "code",
   "execution_count": 32,
   "id": "1de2c0b7",
   "metadata": {},
   "outputs": [
    {
     "name": "stdout",
     "output_type": "stream",
     "text": [
      " the number 75869 ,so the output should be 5\n"
     ]
    }
   ],
   "source": [
    "#6)Write a program to count the total number of digits in a number using a while loop.\n",
    "#For example, the number is 75869, so the output should be 5.\n",
    "#sol;\n",
    "n=75869\n",
    "count=0\n",
    "while n!=0:\n",
    "    n//=10\n",
    "    count+=1\n",
    "print(f' the number 75869 ,so the output should be {count}')"
   ]
  },
  {
   "cell_type": "code",
   "execution_count": 35,
   "id": "e02037d8",
   "metadata": {},
   "outputs": [
    {
     "name": "stdout",
     "output_type": "stream",
     "text": [
      "Enter the number : 5\n",
      "5 4 3 2 1 \n",
      "4 3 2 1 \n",
      "3 2 1 \n",
      "2 1 \n",
      "1 \n",
      "\n"
     ]
    }
   ],
   "source": [
    "#7)Write a program to use for loop to print the following reverse number pattern\n",
    "#sol;\n",
    "n=int(input(\"Enter the number : \"))\n",
    "for i in range(0,n+1):\n",
    "    for j in range(n-i,0,-1):\n",
    "        print(j,end=\" \")\n",
    "    print()"
   ]
  },
  {
   "cell_type": "code",
   "execution_count": 36,
   "id": "d36ac886",
   "metadata": {},
   "outputs": [
    {
     "data": {
      "text/plain": [
       "[50, 40, 30, 20, 10]"
      ]
     },
     "execution_count": 36,
     "metadata": {},
     "output_type": "execute_result"
    }
   ],
   "source": [
    "#8)Exercise 8: Print list in reverse order using a loop\n",
    "#sol;\n",
    "list1 = [10, 20, 30, 40, 50]\n",
    "list1[::-1]"
   ]
  },
  {
   "cell_type": "code",
   "execution_count": 38,
   "id": "c06b38eb",
   "metadata": {},
   "outputs": [
    {
     "name": "stdout",
     "output_type": "stream",
     "text": [
      "[-10, -9, -8, -7, -6, -5, -4, -3, -2, -1]\n"
     ]
    }
   ],
   "source": [
    "#9)Exercise 9: Display numbers from -10 to -1 using for loop\n",
    "#sol;\n",
    "l=[]\n",
    "for i in range(-10,0):\n",
    "    l.append(i)\n",
    "print(l)"
   ]
  },
  {
   "cell_type": "code",
   "execution_count": 42,
   "id": "c5ab0f85",
   "metadata": {},
   "outputs": [
    {
     "name": "stdout",
     "output_type": "stream",
     "text": [
      "0\n",
      "1\n",
      "2\n",
      "3\n",
      "4\n",
      "Done!\n"
     ]
    }
   ],
   "source": [
    "#10)Exercise 10: Use else block to display a message “Done” after successful execution of for loop\n",
    "#For example, the following loop will execute without any error.\n",
    "#sol;\n",
    "for i in range(5):\n",
    "    print(i)\n",
    "    continue\n",
    "else:\n",
    "    print(\"Done!\")"
   ]
  },
  {
   "cell_type": "code",
   "execution_count": 47,
   "id": "f5f54a10",
   "metadata": {},
   "outputs": [
    {
     "name": "stdout",
     "output_type": "stream",
     "text": [
      "29\n",
      "31\n",
      "37\n",
      "41\n",
      "43\n",
      "47\n"
     ]
    }
   ],
   "source": [
    "#11)Exercise 11: Write a program to display all prime numbers within a range\n",
    "#A Prime Number is a number that cannot be made by multiplying other whole numbers. A prime number is a natural number greater than 1 that is not a product of two smaller natural numbers\n",
    "# Examples:\n",
    "# 6 is not a prime mumber because it can be made by 2×3 = 6\n",
    "# 37 is a prime number because no other whole numbers multiply together to make it.\n",
    "# start = 25\n",
    "# end = 50\n",
    "# Expected output:\n",
    "# Prime numbers between 25 and 50 are:\n",
    "# 29\n",
    "# 31\n",
    "# 37\n",
    "# 41\n",
    "# 43\n",
    "# 47\n",
    "#sol;\n",
    "start=25\n",
    "end=50\n",
    "\n",
    "for n in range(start,end+1):\n",
    "    if n>1:\n",
    "        for x in range(2,n):\n",
    "            if n%x==0:\n",
    "                break\n",
    "                \n",
    "        else:\n",
    "            print(n)"
   ]
  },
  {
   "cell_type": "code",
   "execution_count": 51,
   "id": "4dc4f13c",
   "metadata": {},
   "outputs": [
    {
     "name": "stdout",
     "output_type": "stream",
     "text": [
      "Enter the number : 21\n",
      "Given number is positive number\n",
      "1 1 2 3 5 8 13 21 34 55 89 144 233 377 610 987 1597 2584 4181 6765 10946 "
     ]
    }
   ],
   "source": [
    "# 12)The Fibonacci Sequence is a series of numbers. The next number is found by adding up the two numbers before it. The first two numbers are 0 and 1.\t\t\t\t\t\t\t\n",
    "# For example, 0, 1, 1, 2, 3, 5, 8, 13, 21. The next number in this series above is 13+21 = 34.\t\t\t\t\t\t\t\n",
    "# Expected output:\t\t\t\t\t\t\t\n",
    "# Fibonacci sequence:\t\t\t\t\t\t\t\n",
    "# 0  1  1  2  3  5  8  13  21  34\t\t\t\t\t\t\t\n",
    "#sol;\n",
    "n=int(input(\"Enter the number : \"))\n",
    "num1=0\n",
    "num2=1\n",
    "if n>1:\n",
    "    print(\"Given number is positive number\")\n",
    "elif n==1:\n",
    "    print(num1)\n",
    "count=0\n",
    "while count<n:\n",
    "    sum=num1+num2\n",
    "    num1=num2\n",
    "    num2=sum\n",
    "    count+=1\n",
    "    print(num1,end=\" \")"
   ]
  },
  {
   "cell_type": "code",
   "execution_count": 53,
   "id": "c3aa20fb",
   "metadata": {},
   "outputs": [
    {
     "name": "stdout",
     "output_type": "stream",
     "text": [
      "Enter the number : 5\n",
      "120\n"
     ]
    }
   ],
   "source": [
    "#13)Exercise 13: Find the factorial of a given number\n",
    "#sol;\n",
    "n=int(input(\"Enter the number : \"))\n",
    "fact=1\n",
    "if n<0:\n",
    "    print(\"Number is does't not exist\")\n",
    "elif n==0:\n",
    "    print(\"The factorial exist 0 to 1\")\n",
    "else:\n",
    "    for i in range(1,n+1):\n",
    "        fact=fact*i\n",
    "    print(fact)"
   ]
  },
  {
   "cell_type": "code",
   "execution_count": 56,
   "id": "e63f6c92",
   "metadata": {},
   "outputs": [
    {
     "name": "stdout",
     "output_type": "stream",
     "text": [
      "24567\n"
     ]
    }
   ],
   "source": [
    "# 14)Exercise 14: Reverse a given integer number\n",
    "# Given:\n",
    "# 76542\n",
    "# Expected output:\n",
    "# 24567\n",
    "#sol;\n",
    "num=76542\n",
    "str_revers=str(num)\n",
    "reveres=str_revers[::-1]\n",
    "print(reveres)"
   ]
  },
  {
   "cell_type": "code",
   "execution_count": 65,
   "id": "25081bbf",
   "metadata": {},
   "outputs": [
    {
     "name": "stdout",
     "output_type": "stream",
     "text": [
      "1 20\n",
      "3 40\n",
      "5 60\n",
      "7 80\n",
      "9 100\n"
     ]
    }
   ],
   "source": [
    "#15)Exercise 15: Use a loop to display elements from a given list present at odd index positions\n",
    "#sol;\n",
    "my_list = [10, 20, 30, 40, 50, 60, 70, 80, 90, 100]\n",
    "li=[]\n",
    "for i in range(len(my_list)):\n",
    "    if (i!=0 and i%2!=0):\n",
    "        print(i,my_list[i])"
   ]
  },
  {
   "cell_type": "code",
   "execution_count": null,
   "id": "5d000a31",
   "metadata": {},
   "outputs": [],
   "source": []
  }
 ],
 "metadata": {
  "kernelspec": {
   "display_name": "Python 3 (ipykernel)",
   "language": "python",
   "name": "python3"
  },
  "language_info": {
   "codemirror_mode": {
    "name": "ipython",
    "version": 3
   },
   "file_extension": ".py",
   "mimetype": "text/x-python",
   "name": "python",
   "nbconvert_exporter": "python",
   "pygments_lexer": "ipython3",
   "version": "3.9.13"
  }
 },
 "nbformat": 4,
 "nbformat_minor": 5
}
