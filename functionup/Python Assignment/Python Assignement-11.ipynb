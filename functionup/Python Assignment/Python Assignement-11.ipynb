{
 "cells": [
  {
   "cell_type": "code",
   "execution_count": 36,
   "id": "5663ca56",
   "metadata": {},
   "outputs": [
    {
     "name": "stdout",
     "output_type": "stream",
     "text": [
      "orginiall dict\n",
      "{'Cierra Vega': (6.2, 70), 'Alden Cantrell': (5.9, 65), 'Kierra Gentry': (6.0, 68), 'Pierre Cox': (5.8, 66)}\n",
      "Height > 6ft and Weight> 70kg:\n",
      "{'Cierra Vega': (6.2, 70)}\n"
     ]
    }
   ],
   "source": [
    "# Q1. Write a Python program to filter the height and width of students, which are stored in a dictionary.\n",
    "def filter(student):\n",
    "    result={k:s for k,s in student.items() if s[0]>=6.0 and s[1]>=70}\n",
    "    return result\n",
    "student = {'Cierra Vega': (6.2, 70), 'Alden Cantrell': (5.9, 65), 'Kierra Gentry': (6.0, 68), 'Pierre Cox': (5.8, 66)}\n",
    "print(\"orginiall dict\")\n",
    "print(student)\n",
    "print(\"Height > 6ft and Weight> 70kg:\")\n",
    "print(filter(student))\n"
   ]
  },
  {
   "cell_type": "code",
   "execution_count": 45,
   "id": "eaf3b7fd",
   "metadata": {},
   "outputs": [
    {
     "name": "stdout",
     "output_type": "stream",
     "text": [
      "{'a': (4, 'x'), 'b': (5, 'y'), 'c': (6, 'z')}\n"
     ]
    }
   ],
   "source": [
    "# Q2. Write a Python program to convert more than one list to nested dictionary.\n",
    "key=[\"a\",\"b\",\"c\"]\n",
    "value=[4,5,6]\n",
    "extra=[\"x\",\"y\",\"z\"]\n",
    "nested_values=zip(key,value,extra)\n",
    "dict_1=dict((x[0],x[1:]) for x in nested_values)\n",
    "print(dict_1)"
   ]
  },
  {
   "cell_type": "code",
   "execution_count": 55,
   "id": "bcc95e0d",
   "metadata": {},
   "outputs": [
    {
     "name": "stdout",
     "output_type": "stream",
     "text": [
      "{'Cierra Vega': (6.2, 70), 'Alden Cantrell': (5.9, 65), 'Kierra Gentry': (6.0, 68), 'Pierre Cox': (5.8, 66)}\n",
      "{'Cierra Vega': (6.2, 70)}\n"
     ]
    }
   ],
   "source": [
    "# Q3.Write a Python program to filter a dictionary based on values\n",
    "student = {'Cierra Vega': (6.2, 70), 'Alden Cantrell': (5.9, 65), 'Kierra Gentry': (6.0, 68), 'Pierre Cox': (5.8, 66)}\n",
    "print(student)\n",
    "result={key:value for (key,value)in student.items() if value[1]>=70}\n",
    "print(result)"
   ]
  },
  {
   "cell_type": "code",
   "execution_count": 66,
   "id": "844b92cc",
   "metadata": {},
   "outputs": [
    {
     "name": "stdout",
     "output_type": "stream",
     "text": [
      "{'Name': 'Pooja', 'Age': 23, 'Mark': 488}\n"
     ]
    }
   ],
   "source": [
    "#Q4.Write a Python program to drop empty Items from a given Dictionary\n",
    "student = {\"Name\": \"Pooja\", \"Age\":23, \"Gender\": None, \"Mark\":488, \"City\": None}\n",
    "result={}\n",
    "for (key,value) in student.items():\n",
    "    if value is not None:\n",
    "        result.update({key:value})\n",
    "print(result)"
   ]
  },
  {
   "cell_type": "code",
   "execution_count": 71,
   "id": "ffc92056",
   "metadata": {},
   "outputs": [
    {
     "name": "stdout",
     "output_type": "stream",
     "text": [
      "{'x': [11, 12, 13, 14, 15, 16, 17, 18, 19], 'y': [21, 22, 23, 24, 25, 26, 27, 28, 29], 'z': [31, 32, 33, 34, 35, 36, 37, 38, 39]}\n",
      "15\n",
      "25\n",
      "35\n",
      "x has value [11, 12, 13, 14, 15, 16, 17, 18, 19]\n",
      "y has value [21, 22, 23, 24, 25, 26, 27, 28, 29]\n",
      "z has value [31, 32, 33, 34, 35, 36, 37, 38, 39]\n"
     ]
    }
   ],
   "source": [
    "#Q5.Write a Python program to create a dictionary of keys x, y, and z where each key has as value a list from 11-20, 21-30, and 31-40 respectively. Access the fifth value of each key from the dictionary.\n",
    "from pprint import pprint\n",
    "dic=dict(x=list(range(11,20)),y=list(range(21,30)),z=list(range(31,40)))\n",
    "print(dic)\n",
    "print(dic[\"x\"][4])\n",
    "print(dic[\"y\"][4])\n",
    "print(dic[\"z\"][4])\n",
    "for k,v in dic.items():\n",
    "    print(k,\"has value\",v)"
   ]
  },
  {
   "cell_type": "code",
   "execution_count": null,
   "id": "4ac1cdc1",
   "metadata": {},
   "outputs": [],
   "source": []
  }
 ],
 "metadata": {
  "kernelspec": {
   "display_name": "Python 3 (ipykernel)",
   "language": "python",
   "name": "python3"
  },
  "language_info": {
   "codemirror_mode": {
    "name": "ipython",
    "version": 3
   },
   "file_extension": ".py",
   "mimetype": "text/x-python",
   "name": "python",
   "nbconvert_exporter": "python",
   "pygments_lexer": "ipython3",
   "version": "3.11.1"
  }
 },
 "nbformat": 4,
 "nbformat_minor": 5
}
