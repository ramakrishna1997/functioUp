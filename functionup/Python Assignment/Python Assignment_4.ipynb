{
 "cells": [
  {
   "cell_type": "code",
   "execution_count": 14,
   "id": "5d6827f7",
   "metadata": {},
   "outputs": [
    {
     "name": "stdout",
     "output_type": "stream",
     "text": [
      "0\n",
      "1\n",
      "2\n",
      "3\n",
      "4\n",
      "----------------------\n",
      "Python\n",
      "Python\n",
      "Python\n",
      "Python\n",
      "Python\n",
      "Python\n"
     ]
    }
   ],
   "source": [
    "#1)Explain with an example each when to use a for loop and a while loop.\n",
    "#1)For loop\n",
    "#ANS) for loop is a block of code to run for a certain number of times. It is used to itrated the list,tuples and strings\n",
    "#syntax:\n",
    "# for x in range(start,stop,step):\n",
    "#   statements\n",
    "#Example:\n",
    "for i in range(5):\n",
    "    print(i)\n",
    "\n",
    "    \n",
    "print(\"----------------------\")   \n",
    "\n",
    "#2)while loop\n",
    "#Ans) In python while loop a block code to iterate untile the condition is met\n",
    "#syntax:\n",
    "# while conditon:\n",
    "#   i+=1\n",
    "#Example:\n",
    "name =\"Python\"\n",
    "while i<10:\n",
    "    i+=1\n",
    "    print(name)"
   ]
  },
  {
   "cell_type": "code",
   "execution_count": 15,
   "id": "d0e00174",
   "metadata": {},
   "outputs": [
    {
     "name": "stdout",
     "output_type": "stream",
     "text": [
      "sum of the first natural numbers 1\n",
      "#####################################\n",
      "The product of the first natural numbers 1\n",
      "sum of the first natural numbers 3\n",
      "#####################################\n",
      "The product of the first natural numbers 2\n",
      "sum of the first natural numbers 6\n",
      "#####################################\n",
      "The product of the first natural numbers 6\n",
      "sum of the first natural numbers 10\n",
      "#####################################\n",
      "The product of the first natural numbers 24\n",
      "sum of the first natural numbers 15\n",
      "#####################################\n",
      "The product of the first natural numbers 120\n",
      "sum of the first natural numbers 21\n",
      "#####################################\n",
      "The product of the first natural numbers 720\n",
      "sum of the first natural numbers 28\n",
      "#####################################\n",
      "The product of the first natural numbers 5040\n",
      "sum of the first natural numbers 36\n",
      "#####################################\n",
      "The product of the first natural numbers 40320\n",
      "sum of the first natural numbers 45\n",
      "#####################################\n",
      "The product of the first natural numbers 362880\n",
      "--------------------------------------------------------------------\n",
      "sum of the first natural numbers <built-in function sum>\n",
      "-----------------------------------------\n",
      "The product of the first natural numbers 1\n",
      "sum of the first natural numbers <built-in function sum>\n",
      "-----------------------------------------\n",
      "The product of the first natural numbers 2\n",
      "sum of the first natural numbers <built-in function sum>\n",
      "-----------------------------------------\n",
      "The product of the first natural numbers 6\n",
      "sum of the first natural numbers <built-in function sum>\n",
      "-----------------------------------------\n",
      "The product of the first natural numbers 24\n",
      "sum of the first natural numbers <built-in function sum>\n",
      "-----------------------------------------\n",
      "The product of the first natural numbers 120\n",
      "sum of the first natural numbers <built-in function sum>\n",
      "-----------------------------------------\n",
      "The product of the first natural numbers 720\n",
      "sum of the first natural numbers <built-in function sum>\n",
      "-----------------------------------------\n",
      "The product of the first natural numbers 5040\n",
      "sum of the first natural numbers <built-in function sum>\n",
      "-----------------------------------------\n",
      "The product of the first natural numbers 40320\n",
      "sum of the first natural numbers <built-in function sum>\n",
      "-----------------------------------------\n",
      "The product of the first natural numbers 362880\n"
     ]
    }
   ],
   "source": [
    "#2)Write a python program to print the sum and product of the first 10 natural numbers using for and while loop.\n",
    "# using function with for loop\n",
    "def natural_numbers():\n",
    "    sum=0\n",
    "    product=1\n",
    "    for i in range(1,10):\n",
    "        sum+=i\n",
    "        product*=i\n",
    "        print(f'sum of the first natural numbers {sum}')\n",
    "        print(\"#####################################\")\n",
    "        print(f'The product of the first natural numbers {product}')\n",
    "natural_numbers()\n",
    "print(\"--------------------------------------------------------------------\")\n",
    "# using function with while loop\n",
    "def natural():\n",
    "    sum1=0\n",
    "    prod=1\n",
    "    n=1\n",
    "    while n<10:\n",
    "        sum1+=n\n",
    "        prod=prod*n\n",
    "        n+=1\n",
    "        print(f'sum of the first natural numbers {sum}')\n",
    "        print('-----------------------------------------')\n",
    "        print(f'The product of the first natural numbers {prod}')\n",
    "natural()"
   ]
  },
  {
   "cell_type": "code",
   "execution_count": 16,
   "id": "3ede944d",
   "metadata": {},
   "outputs": [
    {
     "name": "stdout",
     "output_type": "stream",
     "text": [
      "The count of the vowes is 11\n"
     ]
    }
   ],
   "source": [
    "#4)Write a program to filter count vowels in the below-given string. \n",
    "string = \"I want to become a data analyst\"\n",
    "count=0\n",
    "for char in string:\n",
    "    if char in [\"a\",\"i\",\"e\",\"o\",\"u\",\"A\",\"I\",\"O\",\"U\",\"E\"]:\n",
    "        count+=1\n",
    "print(f'The count of the vowes is {count}')"
   ]
  },
  {
   "cell_type": "code",
   "execution_count": 17,
   "id": "0a9e50e3",
   "metadata": {},
   "outputs": [
    {
     "name": "stdout",
     "output_type": "stream",
     "text": [
      "[8, 64, 125, 216, 512, 1000, 1728, 2744, 3375, 4096, 5832, 8000, 10648, 13824, 15625, 17576, 21952, 27000, 32768, 39304, 42875, 46656, 54872, 64000, 74088, 85184, 91125, 97336, 110592, 125000, 140608, 157464, 166375, 175616, 195112, 216000, 238328, 262144, 274625, 287496, 314432, 343000, 373248, 405224, 421875, 438976, 474552, 512000, 551368, 592704, 614125, 636056, 681472, 729000, 778688, 830584, 857375, 884736, 941192, 1000000]\n"
     ]
    }
   ],
   "source": [
    "#3)Create a list of numbers from 1 to 100. Use for loop and while loop to calculate the cube of each number and if the cube of that number is divisible by 4 or 5 then append that number in a list and print that list.\n",
    "cubes=[]\n",
    "for x in range(1,101):\n",
    "    x=x**3\n",
    "    if x%4==0 or x%5==0:\n",
    "        cubes.append(x)\n",
    "print(cubes)"
   ]
  },
  {
   "cell_type": "code",
   "execution_count": 18,
   "id": "d00a500c",
   "metadata": {},
   "outputs": [
    {
     "name": "stdout",
     "output_type": "stream",
     "text": [
      "[1, 3, 5, 7, 9, 11, 13, 15, 17, 19, 21, 23, 25]\n"
     ]
    }
   ],
   "source": [
    "#5)Which keyword is used to create a function? Create a function to return a list of odd numbers in the range of 1 to 25.\n",
    "#Ans) A function can be created by the using of the keyword def\n",
    "def odd():\n",
    "    z=[]\n",
    "    for x in range(1,26):\n",
    "        if x%2!=0:\n",
    "            z.append(x)\n",
    "    print(z)\n",
    "odd()"
   ]
  },
  {
   "cell_type": "code",
   "execution_count": 19,
   "id": "44df0ffa",
   "metadata": {},
   "outputs": [
    {
     "name": "stdout",
     "output_type": "stream",
     "text": [
      "Rk\n",
      "Yash\n",
      "Kiran\n",
      "-----------------------\n",
      "name Alic\n",
      "age 25\n"
     ]
    }
   ],
   "source": [
    "#6)Why *args and **kwargs is used in some functions? Create a function each for *args and **kwargs to demonstrate their use.\n",
    "# *args is keyword which is accept number of positional arguments in the function\n",
    "def func(*args):\n",
    "    for name in args:\n",
    "        print(name)\n",
    "func(\"Rk\",\"Yash\",\"Kiran\")\n",
    "print(\"-----------------------\")\n",
    "# **kwargs allows a function to accept a variable number of keyword arguments. It allows passing any number of keyword arguments to the function, which will be packed into a dictionary. The **kwargs syntax is used in the function definition with two asterisks before the parameter name.\n",
    "def fun(**kwargs):\n",
    "    for key,values in kwargs.items():\n",
    "        print(key,values)\n",
    "fun(name=\"Alic\",age=25)"
   ]
  },
  {
   "cell_type": "code",
   "execution_count": 20,
   "id": "4572bfbe",
   "metadata": {},
   "outputs": [
    {
     "name": "stdout",
     "output_type": "stream",
     "text": [
      "2\n",
      "4\n",
      "6\n",
      "8\n",
      "10\n"
     ]
    }
   ],
   "source": [
    "#7)What is an iterator in python? Name the method used to initialise the iterator object and the method used for iteration. Use these methods to print the first five elements of the given \n",
    "list=[2, 4, 6, 8, 10, 12, 14, 16, 18, 20]\n",
    "myit=iter(list)\n",
    "print(next(myit))\n",
    "print(next(myit))\n",
    "print(next(myit))\n",
    "print(next(myit))\n",
    "print(next(myit))"
   ]
  },
  {
   "cell_type": "code",
   "execution_count": 21,
   "id": "4bbcafdc",
   "metadata": {},
   "outputs": [
    {
     "name": "stdout",
     "output_type": "stream",
     "text": [
      "1\n",
      "2\n",
      "3\n"
     ]
    }
   ],
   "source": [
    "#8)What is a generator function in python? Why yield keyword is used? Give an example of a generator function.\n",
    "#In Python, a generator is a function that returns an iterator that produces a sequence of values when iterated over.but here yeild keyword use\n",
    "def generator():\n",
    "    yield 1\n",
    "    yield 2\n",
    "    yield 3\n",
    "for y in generator():\n",
    "    print(y)"
   ]
  },
  {
   "cell_type": "code",
   "execution_count": null,
   "id": "12a58a67",
   "metadata": {},
   "outputs": [],
   "source": [
    "#9)Create a generator function for prime numbers less than 1000. Use the next() method to print the first 20 prime numbers.\n",
    "def primes_generator():\n",
    "    num = 2\n",
    "    while num < 1000:\n",
    "        if all(num % i != 0 for i in range(2, num)):\n",
    "            yield num\n",
    "        num += 1\n",
    "\n",
    "# Create a generator object\n",
    "primes_gen = primes_generator()\n",
    "\n",
    "# Print the first 20 prime numbers using next() function\n",
    "for i in range(20):\n",
    "    print(next(primes_gen))"
   ]
  },
  {
   "cell_type": "code",
   "execution_count": 22,
   "id": "ac5f9f9e",
   "metadata": {},
   "outputs": [
    {
     "name": "stdout",
     "output_type": "stream",
     "text": [
      "[1, 3, 5, 7, 9, 11, 13, 15, 17, 19, 21, 23, 25, 27, 29, 31, 33, 35, 37, 39, 41, 43, 45, 47, 49, 51, 53, 55, 57, 59, 61, 63, 65, 67, 69, 71, 73, 75, 77, 79, 81, 83, 85, 87, 89, 91, 93, 95, 97, 99] "
     ]
    }
   ],
   "source": [
    "#10)Write a code to print odd numbers from 1 to 100 using list comprehension. Note: Use a list comprehension to create a list from 1 to 100 and use another List comprehension to filter out odd numbers\n",
    "\n",
    "li=[x for x in range(1,100) if x%2!=0]\n",
    "print(li,end=\" \")"
   ]
  },
  {
   "cell_type": "code",
   "execution_count": null,
   "id": "842c3ef4",
   "metadata": {},
   "outputs": [],
   "source": []
  }
 ],
 "metadata": {
  "kernelspec": {
   "display_name": "Python 3 (ipykernel)",
   "language": "python",
   "name": "python3"
  },
  "language_info": {
   "codemirror_mode": {
    "name": "ipython",
    "version": 3
   },
   "file_extension": ".py",
   "mimetype": "text/x-python",
   "name": "python",
   "nbconvert_exporter": "python",
   "pygments_lexer": "ipython3",
   "version": "3.9.13"
  }
 },
 "nbformat": 4,
 "nbformat_minor": 5
}
