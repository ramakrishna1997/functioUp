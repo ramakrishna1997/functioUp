{
 "cells": [
  {
   "cell_type": "code",
   "execution_count": 10,
   "id": "22dbdd8c",
   "metadata": {},
   "outputs": [
    {
     "name": "stdout",
     "output_type": "stream",
     "text": [
      "[2, 3, 4, 4, 5, 6] "
     ]
    }
   ],
   "source": [
    "# 1)Write a Python function to implement a bubble sort algorithm.\n",
    "def bubble_sort():\n",
    "    array=[5,6,3,4,2,4]\n",
    "    for a in range(len(array)):\n",
    "        for b in range(0,len(array)-a-1):\n",
    "            if array[b]>array[b+1]:\n",
    "                temp=array[b]\n",
    "                array[b]=array[b+1]\n",
    "                array[b+1]=temp\n",
    "    print(array,end=\" \")\n",
    "bubble_sort()"
   ]
  },
  {
   "cell_type": "code",
   "execution_count": 12,
   "id": "9fe34fcc",
   "metadata": {},
   "outputs": [
    {
     "data": {
      "text/plain": [
       "156"
      ]
     },
     "execution_count": 12,
     "metadata": {},
     "output_type": "execute_result"
    }
   ],
   "source": [
    "# Write a Python function to calculate the perimeter of a rectangle, given its length and width.\n",
    "def rectangle():\n",
    "    l=54\n",
    "    w=24\n",
    "    return 2*(l+w)\n",
    "rectangle()"
   ]
  },
  {
   "cell_type": "code",
   "execution_count": 15,
   "id": "18b85472",
   "metadata": {},
   "outputs": [
    {
     "name": "stdout",
     "output_type": "stream",
     "text": [
      "1\n",
      "2\n",
      "4\n"
     ]
    }
   ],
   "source": [
    "# Write a Python program to find the greatest common divisor (GCD) of two given numbers.\n",
    "def GCD():\n",
    "    num1=32\n",
    "    num2=44\n",
    "    gcd=1\n",
    "    for i in range(1,min(num1,num2)):\n",
    "        if num1%i==0 and num2%i==0:\n",
    "            gcd=i\n",
    "            print(gcd)\n",
    "GCD()"
   ]
  },
  {
   "cell_type": "code",
   "execution_count": 16,
   "id": "c2b2513e",
   "metadata": {},
   "outputs": [],
   "source": [
    "import numpy as np"
   ]
  },
  {
   "cell_type": "code",
   "execution_count": 19,
   "id": "c41e27a7",
   "metadata": {},
   "outputs": [
    {
     "name": "stdout",
     "output_type": "stream",
     "text": [
      "the gcd 1\n"
     ]
    }
   ],
   "source": [
    "gcd=np.gcd(23,44)\n",
    "print(f'the gcd {gcd}')"
   ]
  },
  {
   "cell_type": "code",
   "execution_count": 22,
   "id": "6fea55a7",
   "metadata": {},
   "outputs": [
    {
     "name": "stdout",
     "output_type": "stream",
     "text": [
      "Enter your emai : killiramakrishna@gmail.com\n",
      "correct mail killiramakrishna@gmail.com\n"
     ]
    }
   ],
   "source": [
    "# Write a Python program to check if a given string is a valid email address.\n",
    "def valid_email():\n",
    "    email=input(\"Enter your emai : \")\n",
    "    if '@' in email:\n",
    "        if '.' in email:\n",
    "            print(f\"correct mail {email}\")\n",
    "    else:\n",
    "        print(\"incorrect email\")\n",
    "valid_email()"
   ]
  },
  {
   "cell_type": "code",
   "execution_count": 30,
   "id": "77d2e73c",
   "metadata": {},
   "outputs": [
    {
     "name": "stdout",
     "output_type": "stream",
     "text": [
      "Enter the name :o\n",
      "the vowels of the name  o\n"
     ]
    }
   ],
   "source": [
    "# Write a Python program to count the number of vowels in a given string.\n",
    "name = input(\"Enter the name :\")\n",
    "l=['A','I','O','E','U','a','i','o','u','e']\n",
    "for vowel in l:\n",
    "    if name in l:\n",
    "        print('the vowels of the name ',name)\n",
    "        break\n",
    "    else:\n",
    "        print(\"consontants\")"
   ]
  },
  {
   "cell_type": "code",
   "execution_count": 32,
   "id": "dce2a541",
   "metadata": {},
   "outputs": [
    {
     "name": "stdout",
     "output_type": "stream",
     "text": [
      "Enter the name : python\n",
      "not a palindroma\n"
     ]
    }
   ],
   "source": [
    "# Write a Python function to check if a given string is a palindrome or not.\n",
    "def paildroma():\n",
    "    name=input(\"Enter the name : \")\n",
    "    reverse=name[::-1]\n",
    "    if name==reverse:\n",
    "        print(\"palindroma\")\n",
    "    else:\n",
    "        print(\"not a palindroma\")\n",
    "paildroma()"
   ]
  },
  {
   "cell_type": "code",
   "execution_count": 34,
   "id": "dd74a8d3",
   "metadata": {},
   "outputs": [
    {
     "name": "stdout",
     "output_type": "stream",
     "text": [
      "0b110010b11110\n"
     ]
    }
   ],
   "source": [
    "# Write a Python program to find the sum of two binary numbers represented as strings.\n",
    "a=bin(25)\n",
    "b=bin(30)\n",
    "c=a+b\n",
    "print(c)"
   ]
  },
  {
   "cell_type": "code",
   "execution_count": 36,
   "id": "dcf96152",
   "metadata": {},
   "outputs": [
    {
     "name": "stdout",
     "output_type": "stream",
     "text": [
      "6\n",
      "2\n"
     ]
    }
   ],
   "source": [
    "# Write a Python function to find the maximum and minimum values in a list.\n",
    "l=[2,3,4,5,6]\n",
    "print(max(l))\n",
    "print(min(l))"
   ]
  },
  {
   "cell_type": "code",
   "execution_count": 42,
   "id": "47ce1b15",
   "metadata": {},
   "outputs": [
    {
     "name": "stdout",
     "output_type": "stream",
     "text": [
      "remove all the occurence  [1, 2, 3, 4, 5]\n",
      "remove all the occurence  [2, 3, 4, 5]\n"
     ]
    }
   ],
   "source": [
    "# Write a Python program to remove all the occurrences of a given element from a list.\n",
    "def remove():\n",
    "    l=[1,1,2,3,4,5]\n",
    "    a=1\n",
    "    c=l.count(a)\n",
    "    for i in range(c):\n",
    "        l.remove(a)\n",
    "        print(\"remove all the occurence \",l)\n",
    "remove()"
   ]
  },
  {
   "cell_type": "code",
   "execution_count": 50,
   "id": "8b931295",
   "metadata": {},
   "outputs": [
    {
     "name": "stdout",
     "output_type": "stream",
     "text": [
      "4\n"
     ]
    }
   ],
   "source": [
    "# Write a Python program to find the k-th smallest element in a given array of integers.\n",
    "from heapq import heappop, heappush\n",
    "def solve(nums, k):\n",
    "   maxHeap = []\n",
    "   for i in range(k + 1):\n",
    "      heappush(maxHeap, -nums[i])\n",
    "   for i in range(k + 1, len(nums)):\n",
    "      if nums[i] < -maxHeap[0]:\n",
    "         heappop(maxHeap)\n",
    "         heappush(maxHeap, -nums[i])\n",
    "   return -maxHeap[0]\n",
    "\n",
    "nums = [6, 4, 9, 3, 1]\n",
    "k = 2\n",
    "print(solve(nums, k))"
   ]
  },
  {
   "cell_type": "code",
   "execution_count": 53,
   "id": "75c1f337",
   "metadata": {},
   "outputs": [
    {
     "name": "stdout",
     "output_type": "stream",
     "text": [
      "185\n"
     ]
    }
   ],
   "source": [
    "# Write a Python program to get the total length of all values of a given dictionary with string values\n",
    "def dic():\n",
    "    d={'A':50,\"B\":75,'C':60}\n",
    "    count=0\n",
    "    for value in d.values():\n",
    "        count+=value\n",
    "    print(count)\n",
    "dic()"
   ]
  },
  {
   "cell_type": "code",
   "execution_count": 57,
   "id": "b1f14dff",
   "metadata": {},
   "outputs": [
    {
     "name": "stdout",
     "output_type": "stream",
     "text": [
      "Enter the number :12\n",
      "factorial of the number is 479001600\n"
     ]
    }
   ],
   "source": [
    "# Write a Python function to calculate the factorial of a number.\n",
    "def fact():\n",
    "    n=int(input(\"Enter the number :\"))\n",
    "    fact=1\n",
    "    if n<1:\n",
    "        print(\"negative number does't exist\")\n",
    "    elif n==1:\n",
    "        print(\"factorial of the o to 1\")\n",
    "    else:\n",
    "        for i in range(1,n+1):\n",
    "            fact=fact*i\n",
    "        print(f\"factorial of the number is {fact}\")\n",
    "fact()"
   ]
  },
  {
   "cell_type": "code",
   "execution_count": 71,
   "id": "accc601d",
   "metadata": {},
   "outputs": [
    {
     "name": "stdout",
     "output_type": "stream",
     "text": [
      "Yes\n"
     ]
    }
   ],
   "source": [
    "# Write a Python function to check if a given number is a perfect square\n",
    "def perfect_square():\n",
    "    n=2500\n",
    "    for i in range(n+1):\n",
    "        if i**2==n:\n",
    "            print(\"Yes\")\n",
    "            break\n",
    "    else:\n",
    "        print(\"No\")\n",
    "perfect_square()"
   ]
  },
  {
   "cell_type": "code",
   "execution_count": 77,
   "id": "adf3d383",
   "metadata": {},
   "outputs": [
    {
     "name": "stdout",
     "output_type": "stream",
     "text": [
      "[1, 2, 3, 4, 5, 6, 7]\n"
     ]
    }
   ],
   "source": [
    "# Write a Python program to sort a list of integers in ascending order.\n",
    "def ascending():\n",
    "    li=[3,4,5,6,7,1,2]\n",
    "    li.sort()\n",
    "    print(li)\n",
    "ascending()"
   ]
  },
  {
   "cell_type": "code",
   "execution_count": 80,
   "id": "9f47c08d",
   "metadata": {},
   "outputs": [
    {
     "name": "stdout",
     "output_type": "stream",
     "text": [
      "[1, 2, 3]\n"
     ]
    }
   ],
   "source": [
    "# Write a Python program to extract values from a given dictionaries and create a list of lists from those values.\n",
    "def extract():\n",
    "    di={\"A\":1,\"B\":2,\"C\":3}\n",
    "    l=[]\n",
    "    for val in di.values():\n",
    "        l.append(val)\n",
    "    print(l)\n",
    "extract()"
   ]
  },
  {
   "cell_type": "code",
   "execution_count": null,
   "id": "187473fa",
   "metadata": {},
   "outputs": [],
   "source": []
  },
  {
   "cell_type": "code",
   "execution_count": null,
   "id": "db6f5aab",
   "metadata": {},
   "outputs": [],
   "source": []
  }
 ],
 "metadata": {
  "kernelspec": {
   "display_name": "Python 3 (ipykernel)",
   "language": "python",
   "name": "python3"
  },
  "language_info": {
   "codemirror_mode": {
    "name": "ipython",
    "version": 3
   },
   "file_extension": ".py",
   "mimetype": "text/x-python",
   "name": "python",
   "nbconvert_exporter": "python",
   "pygments_lexer": "ipython3",
   "version": "3.11.1"
  }
 },
 "nbformat": 4,
 "nbformat_minor": 5
}
