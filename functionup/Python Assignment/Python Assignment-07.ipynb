{
 "cells": [
  {
   "cell_type": "code",
   "execution_count": 7,
   "id": "d412c0cd",
   "metadata": {},
   "outputs": [
    {
     "name": "stdout",
     "output_type": "stream",
     "text": [
      "Enter the number : 2\n",
      "Enter the number : 3\n",
      "the multiplication take from the user accept : 6\n"
     ]
    }
   ],
   "source": [
    "#1)Write a program to accept two numbers from the user and calculate multiplication\n",
    "n1=int(input(\"Enter the number : \"))\n",
    "n2=int(input(\"Enter the number : \"))\n",
    "n3=n1*n2\n",
    "print(f'the multiplication take from the user accept : {n3}')"
   ]
  },
  {
   "cell_type": "code",
   "execution_count": 11,
   "id": "d5336525",
   "metadata": {},
   "outputs": [
    {
     "name": "stdout",
     "output_type": "stream",
     "text": [
      "Name**Is**James\n"
     ]
    }
   ],
   "source": [
    "# 2)Exercise 2: Display three string “Name”, “Is”, “James” as “Name**Is**James”\n",
    "print('Name', 'Is', 'James',sep=\"**\")"
   ]
  },
  {
   "cell_type": "code",
   "execution_count": 19,
   "id": "afd85835",
   "metadata": {},
   "outputs": [
    {
     "name": "stdout",
     "output_type": "stream",
     "text": [
      "Convert Decimal number to octal using 8 is 10\n"
     ]
    }
   ],
   "source": [
    "#3)Exercise 3: Convert Decimal number to octal using print() output formatting\n",
    "num=8\n",
    "n4=format(num,'o')\n",
    "print(f'Convert Decimal number to octal using {num} is {n4}')"
   ]
  },
  {
   "cell_type": "code",
   "execution_count": 20,
   "id": "9de6481a",
   "metadata": {},
   "outputs": [
    {
     "name": "stdout",
     "output_type": "stream",
     "text": [
      "458.54\n"
     ]
    }
   ],
   "source": [
    "#4)Exercise 4: Display float number with 2 decimal places using print()\n",
    "num = 458.541315\n",
    "ro=round(num,2)\n",
    "print(ro)"
   ]
  },
  {
   "cell_type": "code",
   "execution_count": 31,
   "id": "cf941f7c",
   "metadata": {},
   "outputs": [
    {
     "name": "stdout",
     "output_type": "stream",
     "text": [
      "Enter the number : 78\n",
      "Enter the number : 78\n",
      "Enter the number : 85\n",
      "Enter the number : 1\n",
      "Enter the number : 3\n",
      "[78.0, 79.0, 87.0, 4.0, 7.0]\n"
     ]
    }
   ],
   "source": [
    "#5)Exercise 5: Accept a list of 5 float numbers as an input from the user\n",
    "#[78.6, 78.6, 85.3, 1.2, 3.5]\n",
    "my_list=[]\n",
    "for x in range(5):\n",
    "    num=int(input(\"Enter the number : \"))\n",
    "    my_list.append(float(num)+x)\n",
    "print(my_list)"
   ]
  },
  {
   "cell_type": "code",
   "execution_count": 46,
   "id": "251e7732",
   "metadata": {},
   "outputs": [
    {
     "name": "stdout",
     "output_type": "stream",
     "text": [
      "['line1\\n', 'line2\\n', 'line3\\n', 'line4\\n', 'line6\\n', 'line7']\n"
     ]
    }
   ],
   "source": [
    "#6)Exercise 6: Write all content of a given file into a new file by skipping line number 5\n",
    "file_content = \"\"\"line1\n",
    "line2\n",
    "line3\n",
    "line4\n",
    "line5\n",
    "line6\n",
    "line7\"\"\"\n",
    "with open(\"Demon.txt\",\"w\") as file:\n",
    "    file.write(file_content)\n",
    "with open(\"Demon.txt\",\"r\") as file:\n",
    "    lines=file.readlines()\n",
    "lines.pop(4)\n",
    "\n",
    "with open(\"new_file\",\"w\") as file:\n",
    "    for line in lines:\n",
    "        file.write(line)\n",
    "with open(\"new_file\",\"r\") as file:\n",
    "    lin=file.readlines()\n",
    "    print(lin)"
   ]
  },
  {
   "cell_type": "code",
   "execution_count": 56,
   "id": "98a0e2e0",
   "metadata": {},
   "outputs": [
    {
     "name": "stdout",
     "output_type": "stream",
     "text": [
      "Enter three names separated by spaces: sheakar rakesh rama\n",
      "name1: sheakar\n",
      "name2: rakesh\n",
      "name3: rama\n"
     ]
    }
   ],
   "source": [
    "#7)Write a program to take three names as input from a user in the single input() function call.\n",
    "# Taking three names as input from user in a single input() function call\n",
    "n = input(\"Enter three names separated by spaces: \").split()\n",
    "\n",
    "# Checking if the list has enough elements\n",
    "if len(n) >= 3:\n",
    "    name1 = n[0]\n",
    "    name2 = n[1]\n",
    "    name3 = n[2]\n",
    "    print(\"name1:\", name1)\n",
    "    print(\"name2:\", name2)\n",
    "    print(\"name3:\", name3)\n",
    "else:\n",
    "    print(\"Please provide at least three names separated by spaces.\")\n"
   ]
  },
  {
   "cell_type": "code",
   "execution_count": 57,
   "id": "fbc47715",
   "metadata": {},
   "outputs": [
    {
     "name": "stdout",
     "output_type": "stream",
     "text": [
      "I have 1000 dollars to buy 3 items, each priced at 450 dollars.\n"
     ]
    }
   ],
   "source": [
    "#8)Write a program to use string.format() method to format the following three variables as per the expected output\n",
    "totalMoney = 1000\n",
    "quantity = 3\n",
    "price = 450\n",
    "print(\"I have {} dollars to buy {} items, each priced at {} dollars.\".format(totalMoney, quantity, price))"
   ]
  },
  {
   "cell_type": "code",
   "execution_count": 73,
   "id": "d8d7abf0",
   "metadata": {},
   "outputs": [
    {
     "name": "stdout",
     "output_type": "stream",
     "text": [
      "File empty\n"
     ]
    }
   ],
   "source": [
    "#9)Write a program to check if the given file is empty or not\n",
    "with open(\"devil.txt\",'r') as file:\n",
    "    line=file.readlines()\n",
    "if len(line)==0:\n",
    "    print(\"File empty\")\n",
    "else:\n",
    "    print(\"file is not empty\")"
   ]
  },
  {
   "cell_type": "code",
   "execution_count": 68,
   "id": "bc335101",
   "metadata": {},
   "outputs": [
    {
     "name": "stdout",
     "output_type": "stream",
     "text": [
      "line4\n"
     ]
    }
   ],
   "source": [
    "#10)Exercise 10: Read line number 4 from the following file\n",
    "\n",
    "file_in='''line1\n",
    "line2\n",
    "line3\n",
    "line4\n",
    "line5\n",
    "line6\n",
    "line7\n",
    "'''\n",
    "with open(\"pikachu.txt\",\"w\") as file:\n",
    "    file.write(file_in)\n",
    "with open(\"pikachu.txt\",'r') as file:\n",
    "    line=file.readlines()\n",
    "if len(line)>4:\n",
    "    line4=line[3].strip()\n",
    "    print(line4)"
   ]
  }
 ],
 "metadata": {
  "kernelspec": {
   "display_name": "Python 3 (ipykernel)",
   "language": "python",
   "name": "python3"
  },
  "language_info": {
   "codemirror_mode": {
    "name": "ipython",
    "version": 3
   },
   "file_extension": ".py",
   "mimetype": "text/x-python",
   "name": "python",
   "nbconvert_exporter": "python",
   "pygments_lexer": "ipython3",
   "version": "3.9.13"
  }
 },
 "nbformat": 4,
 "nbformat_minor": 5
}
