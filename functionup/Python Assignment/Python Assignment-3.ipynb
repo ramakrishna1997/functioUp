{
 "cells": [
  {
   "cell_type": "code",
   "execution_count": 135,
   "id": "dc91af46",
   "metadata": {},
   "outputs": [
    {
     "name": "stdout",
     "output_type": "stream",
     "text": [
      "python\n",
      "python\n",
      "python\n",
      "python\n",
      "python\n",
      "python\n",
      "python\n",
      "python\n",
      "python\n",
      "python\n",
      "python\n",
      "python\n",
      "python\n",
      "python\n",
      "python\n",
      "python\n",
      "python\n",
      "python\n",
      "python\n",
      "python\n"
     ]
    }
   ],
   "source": [
    "# 1)Write a python program to print your respective names 10 times using for loop and while loop\n",
    "word='python'\n",
    "for i in range(10):\n",
    "    print(word)\n",
    "count =0 \n",
    "while count<10:\n",
    "    print(word)\n",
    "    count+=1"
   ]
  },
  {
   "cell_type": "code",
   "execution_count": 136,
   "id": "6a5f786a",
   "metadata": {},
   "outputs": [
    {
     "name": "stdout",
     "output_type": "stream",
     "text": [
      "Enter the number : 12\n",
      "78.0\n"
     ]
    }
   ],
   "source": [
    "# 2)Take user input for a natural number, calculate the sum of all number from 1 to user given number\n",
    "n=int(input(\"Enter the number : \"))\n",
    "for i in range(1,11):\n",
    "    sum=n*(n+1)/2\n",
    "print(sum)\n"
   ]
  },
  {
   "cell_type": "code",
   "execution_count": 138,
   "id": "002914f9",
   "metadata": {},
   "outputs": [
    {
     "name": "stdout",
     "output_type": "stream",
     "text": [
      "Enter the number :121\n"
     ]
    }
   ],
   "source": [
    "# 3)Take user input and display the reverse range of that number, the program should stop if we enter any even number. Display the messages accordingly\n",
    "n=int(input(\"Enter the number :\"))\n",
    "for i in range(n,0,-1):\n",
    "    if n%2==0:\n",
    "        print(f'we found the even number {n} so,we terminate the programe')\n",
    "        break"
   ]
  },
  {
   "cell_type": "code",
   "execution_count": 6,
   "id": "4b2daead",
   "metadata": {},
   "outputs": [
    {
     "name": "stdout",
     "output_type": "stream",
     "text": [
      "Enter the items : kikat\n",
      "Fresh Items (vegetables, fruits, dairy):  []\n",
      "Home Essentials (cleaning supplies, toiletries, household items):  []\n",
      "Others:  ['kikat']\n"
     ]
    }
   ],
   "source": [
    "# 4)Take input from the user for grocery shopping and divide the items into 3 buckets -> Fresh Items (vegetables, fruits, dairy), home essentials and others simple way \n",
    "grocery=input(\"Enter the items : \")\n",
    "grocery_list=grocery.split(',')\n",
    "fresh_items=[]\n",
    "home_essentials=[]\n",
    "other_items=[]\n",
    "for items in grocery_list:\n",
    "    item_lower = items.strip()\n",
    "    if item_lower in ['vegetables', 'fruits', 'dairy']:\n",
    "        fresh_items.append(items)\n",
    "    elif item_lower in ['cleaning supplies', 'toiletries', 'household items']:\n",
    "        home_essentials.append(items)\n",
    "    else:\n",
    "        other_items.append(items)\n",
    "print(\"Fresh Items (vegetables, fruits, dairy): \", fresh_items)\n",
    "print(\"Home Essentials (cleaning supplies, toiletries, household items): \", home_essentials)\n",
    "print(\"Others: \", other_items)"
   ]
  },
  {
   "cell_type": "code",
   "execution_count": 20,
   "id": "7c45676c",
   "metadata": {},
   "outputs": [
    {
     "name": "stdout",
     "output_type": "stream",
     "text": [
      "Enter the number : 12\n",
      "Given number 12 is not prime\n"
     ]
    }
   ],
   "source": [
    "# 5)Write a program to check if the number entered by the user is a *Prime number or not\n",
    "n=int(input(\"Enter the number : \"))\n",
    "flag=0\n",
    "for i in range(2,n):  # n=1,2,3,5,7,13,19 here 2 is also even prime number \n",
    "    if n%i==0:\n",
    "        flag=1\n",
    "    if flag==1:\n",
    "        print(f\"Given number {n} is not prime\")\n",
    "        break\n",
    "    else:\n",
    "        print(f\"Given number {n} is prime\")\n",
    "        break"
   ]
  },
  {
   "cell_type": "code",
   "execution_count": 142,
   "id": "d3c5e91a",
   "metadata": {},
   "outputs": [
    {
     "name": "stdout",
     "output_type": "stream",
     "text": [
      "Enter the number : 153\n",
      "Given number is armstrong number\n"
     ]
    }
   ],
   "source": [
    "# 6)Write a program to check if the number entered by the user is an *Armstrong number or not\n",
    "n=int(input(\"Enter the number : \"))\n",
    "sum=0\n",
    "temp=n\n",
    "while temp>0:\n",
    "    digit=temp%10\n",
    "    sum+=digit**3    #sum=0+digit**3 ----------> sum=0+x --------------> sum=x -------> if x number == sum(x)-------> it is armstrong number\n",
    "    temp//=10\n",
    "if n==sum:\n",
    "    print(\"Given number is armstrong number\")\n",
    "else:\n",
    "    print(\"Given number is not armstrong number\")"
   ]
  },
  {
   "cell_type": "code",
   "execution_count": 13,
   "id": "7b8364f1",
   "metadata": {},
   "outputs": [
    {
     "name": "stdout",
     "output_type": "stream",
     "text": [
      "Enter the number : 000\n",
      "Given number 0 is  palindrome number\n"
     ]
    }
   ],
   "source": [
    "# 7)Write a program to check if the number entered by the user is *Palindrome number or not\n",
    "num=int(input(\"Enter the number : \"))\n",
    "num_str=str(num)\n",
    "num_reversed=num_str[::-1]\n",
    "if num_str==num_reversed:\n",
    "    print(f'Given number {num} is  palindrome number')\n",
    "else:\n",
    "    print(f'Given number {num} is not a palindrome number')"
   ]
  },
  {
   "cell_type": "code",
   "execution_count": 4,
   "id": "73b4c7d6",
   "metadata": {},
   "outputs": [
    {
     "name": "stdout",
     "output_type": "stream",
     "text": [
      "Enter the number : 12\n",
      "the factorial of the number 479001600\n"
     ]
    }
   ],
   "source": [
    "# 8)Write a program to calculate factorial of the number entered by the user, program should stop if the user enters a Palindrome number\n",
    "def is_palindrome(n):\n",
    "    num_str=str(n)\n",
    "    num_reversed=num_str[::-1]\n",
    "    return num_str==num_reversed\n",
    "num=int(input(\"Enter the number : \"))\n",
    "if is_palindrome(num):\n",
    "    print(num,\"is a palindrome number \")\n",
    "    print(\"stop the program\")\n",
    "else:\n",
    "    fact=1\n",
    "    for i in range(1,num+1):\n",
    "        fact=fact*i\n",
    "    print(f'the factorial of the number {fact}')"
   ]
  },
  {
   "cell_type": "code",
   "execution_count": 147,
   "id": "12a3be6c",
   "metadata": {},
   "outputs": [
    {
     "name": "stdout",
     "output_type": "stream",
     "text": [
      "0\n",
      "1\n",
      "1 2 3 5 8 13 21 34 55 89 "
     ]
    }
   ],
   "source": [
    "# 9)Write a program to display the *Fibonacci series for the first 10 natural numbers\n",
    "def feb(n):\n",
    "    a=0\n",
    "    b=1\n",
    "    if (n==1):\n",
    "        print(a)\n",
    "    print(a)\n",
    "    print(b)\n",
    "    for i in range(0,n):\n",
    "        c=a+b\n",
    "        a=b\n",
    "        b=c\n",
    "        print(c,end=\" \")\n",
    "feb(10)"
   ]
  },
  {
   "cell_type": "code",
   "execution_count": 148,
   "id": "ce32c2f9",
   "metadata": {},
   "outputs": [
    {
     "name": "stdout",
     "output_type": "stream",
     "text": [
      "Enter the number : 14\n",
      "\n",
      "*\n",
      "**\n",
      "***\n",
      "****\n",
      "*****\n",
      "******\n",
      "*******\n",
      "********\n",
      "*********\n",
      "**********\n",
      "***********\n",
      "************\n",
      "*************\n"
     ]
    }
   ],
   "source": [
    "# Write a program to display the below pattern\n",
    "# *\n",
    "# **\n",
    "# ***\n",
    "n=int(input(\"Enter the number : \"))\n",
    "for i in range(0,n):\n",
    "    print(\"*\"*i)"
   ]
  },
  {
   "cell_type": "code",
   "execution_count": 149,
   "id": "0b4eb3cc",
   "metadata": {},
   "outputs": [
    {
     "name": "stdout",
     "output_type": "stream",
     "text": [
      "A\n",
      "BB\n",
      "CCC\n",
      "DDDD\n",
      "EEEEE\n",
      "FFFFFF\n",
      "GGGGGGG\n",
      "HHHHHHHH\n",
      "IIIIIIIII\n",
      "JJJJJJJJJJ\n",
      "KKKKKKKKKKK\n",
      "LLLLLLLLLLLL\n",
      "MMMMMMMMMMMMM\n",
      "NNNNNNNNNNNNNN\n",
      "OOOOOOOOOOOOOOO\n"
     ]
    }
   ],
   "source": [
    "# 11)Write a program to display the below pattern\n",
    "# a\n",
    "# b c\n",
    "# d e f\n",
    "# g h i j\n",
    "# k l m n o\n",
    "for i in range(65,80):\n",
    "    for j in range(65,i+1):\n",
    "        print(chr(i),end='')\n",
    "    print()"
   ]
  },
  {
   "cell_type": "code",
   "execution_count": 150,
   "id": "e9f45ab8",
   "metadata": {},
   "outputs": [
    {
     "name": "stdout",
     "output_type": "stream",
     "text": [
      "Enter the time 00:00\n",
      "00:00\n",
      "12:00AM\n"
     ]
    }
   ],
   "source": [
    "# 12)Write a program to convert a time converter,\n",
    "# • if the user enters 12-hour format for a time convert it to 24-format\n",
    "# • If user enters 24-hour format for a time convert it to 12-hour format\n",
    "# Example -> 7:00PM (12-hour format) => 19:00 (24-hour format)\n",
    "# 18:30 (24-hour format) => 6:30PM (12-hour format)\n",
    "# 2:00 (24-hour format) => 2:00 AM (12-hour format)\n",
    "from datetime import datetime\n",
    "time=input(\"Enter the time \")\n",
    "if 'AM' in time or 'PM' in time:\n",
    "    time_format='%I%M%P'\n",
    "else:\n",
    "    time_format='%H:%M'\n",
    "time_obj=datetime.strptime(time,time_format)\n",
    "if 'AM' in time:\n",
    "    time_24h=time_obj.strftime(\"%H:%M\")\n",
    "    print(time)\n",
    "    print(time_24h)\n",
    "elif 'PM' in time:\n",
    "    tim_24h=time_obj.strftime(\"%H:%M\")\n",
    "    print(time)\n",
    "    print(time_24h)\n",
    "else:\n",
    "    time_12hr=time_obj.strftime('%I:%M%p')\n",
    "    print(time)\n",
    "    print(time_12hr)"
   ]
  },
  {
   "cell_type": "code",
   "execution_count": 151,
   "id": "c86e6ac4",
   "metadata": {},
   "outputs": [
    {
     "name": "stdout",
     "output_type": "stream",
     "text": [
      "Enter the number : 96\n",
      "the temperature of the fahrenheit is 204.8 f\n"
     ]
    }
   ],
   "source": [
    "# 13)Write a program to convert temperature from Celsius to Fahrenheit or vice-versa\n",
    "c=float(input(\"Enter the number : \"))\n",
    "f=(c*(9/5))+32\n",
    "print(f\"the temperature of the fahrenheit is {f} f\")"
   ]
  },
  {
   "cell_type": "code",
   "execution_count": 152,
   "id": "d21d3f18",
   "metadata": {},
   "outputs": [
    {
     "name": "stdout",
     "output_type": "stream",
     "text": [
      "2\n",
      "6\n"
     ]
    }
   ],
   "source": [
    "# 14)Write a program to take a string input from user, calculates the number of digits, letters and special characters\n",
    "alpha,name=0,\"python19\"\n",
    "for i in name:\n",
    "    if (i.isalpha()):\n",
    "        alpha+=1\n",
    "print(len(name)-alpha)\n",
    "print(alpha)"
   ]
  },
  {
   "cell_type": "code",
   "execution_count": 153,
   "id": "f0653215",
   "metadata": {},
   "outputs": [
    {
     "name": "stdout",
     "output_type": "stream",
     "text": [
      "['#', '#', '0', '0']\n"
     ]
    }
   ],
   "source": [
    "# 15)Write a program to create strong password, with following conditions • At least 1 letter between [a-z] and 1 letter between [A-Z]. • At least 1 number between [0-9]. • At least 1 character from [$#@]. • Minimum length 6 characters. • Maximum length 16 characters\n",
    "import random\n",
    "import string\n",
    "lower_letters=string.ascii_lowercase\n",
    "upper_letters=string.ascii_uppercase\n",
    "digits=string.digits\n",
    "special_char=\"@#$\"\n",
    "min_length=6\n",
    "max_length=16\n",
    "password=[]\n",
    "char_all=random.choice(lower_letters)+random.choice(upper_letters)+random.choice(digits)+random.choice(special_char)\n",
    "remaing=max_length-len(password)\n",
    "for i in char_all:\n",
    "    password.append(random.choice(char_all))\n",
    "    random.shuffle(password)\n",
    "print(password)"
   ]
  },
  {
   "cell_type": "code",
   "execution_count": null,
   "id": "a8e96cc4",
   "metadata": {},
   "outputs": [],
   "source": []
  }
 ],
 "metadata": {
  "kernelspec": {
   "display_name": "Python 3 (ipykernel)",
   "language": "python",
   "name": "python3"
  },
  "language_info": {
   "codemirror_mode": {
    "name": "ipython",
    "version": 3
   },
   "file_extension": ".py",
   "mimetype": "text/x-python",
   "name": "python",
   "nbconvert_exporter": "python",
   "pygments_lexer": "ipython3",
   "version": "3.11.1"
  }
 },
 "nbformat": 4,
 "nbformat_minor": 5
}
