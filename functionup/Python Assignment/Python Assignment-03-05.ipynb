{
 "cells": [
  {
   "cell_type": "code",
   "execution_count": 2,
   "id": "1af0ec7d",
   "metadata": {},
   "outputs": [
    {
     "name": "stdout",
     "output_type": "stream",
     "text": [
      "{'a': 1, 'b': 2, 'c': 3, 'd': 4}\n"
     ]
    }
   ],
   "source": [
    "#1)Write a Python script to concatenate following dictionaries to create a new one.\n",
    "dic={'a':1,'b':2}\n",
    "dic1={'c':3,'d':4}\n",
    "di={}\n",
    "for i in (dic,dic1):\n",
    "    di.update(i)\n",
    "print(di)"
   ]
  },
  {
   "cell_type": "code",
   "execution_count": 5,
   "id": "80d854cf",
   "metadata": {},
   "outputs": [
    {
     "name": "stdout",
     "output_type": "stream",
     "text": [
      "Yes the key is exist\n"
     ]
    }
   ],
   "source": [
    "# 2)Write a Python script to check whether a given key already exists in a dictionary.\n",
    "di={'a':1,'b':2}\n",
    "if 'a' in di.keys():\n",
    "    print(\"Yes the key is exist\")\n",
    "else:\n",
    "    print(\"No the key is not valid\")"
   ]
  },
  {
   "cell_type": "code",
   "execution_count": 7,
   "id": "91347bd1",
   "metadata": {},
   "outputs": [
    {
     "name": "stdout",
     "output_type": "stream",
     "text": [
      "[  0   1   8  27  64 125 216]\n"
     ]
    }
   ],
   "source": [
    "# 3)Write a NumPy program to get the powers of an array values element\n",
    "import numpy as np\n",
    "a=np.arange(7)\n",
    "power=pow(a,3)\n",
    "print(power)"
   ]
  },
  {
   "cell_type": "code",
   "execution_count": 14,
   "id": "3aebb8fd",
   "metadata": {},
   "outputs": [
    {
     "name": "stdout",
     "output_type": "stream",
     "text": [
      "[0 1 2 3 4 0 1 2 3 4 0]\n"
     ]
    }
   ],
   "source": [
    "# 4)Write a NumPy program to get the element-wise remainder of an array of division.\n",
    "x=np.arange(11)\n",
    "rem=np.remainder(x,5)\n",
    "print(rem)"
   ]
  },
  {
   "cell_type": "code",
   "execution_count": 18,
   "id": "59217131",
   "metadata": {},
   "outputs": [
    {
     "name": "stdout",
     "output_type": "stream",
     "text": [
      "['P y t h o n' 'J A V A' 'K o t l i n']\n"
     ]
    }
   ],
   "source": [
    "# 5)Write a NumPy program to insert a space between characters of all the elements of a given array.\n",
    "course=np.array(['Python','JAVA','Kotlin'],dtype=str)\n",
    "name_of_course=np.char.join(\" \",course)\n",
    "print(name_of_course)"
   ]
  },
  {
   "cell_type": "code",
   "execution_count": 62,
   "id": "bfbe1112",
   "metadata": {},
   "outputs": [
    {
     "data": {
      "text/plain": [
       "['Function', 'Up', 'Data', 'Analytics']"
      ]
     },
     "execution_count": 62,
     "metadata": {},
     "output_type": "execute_result"
    }
   ],
   "source": [
    "arr2=np.array(['function','up','data','analytics'])\n",
    "arr1=np.char.capitalize(arr2)\n",
    "l1=[]\n",
    "for i in arr1:\n",
    "    l=i\n",
    "    l1.append(l)\n",
    "l1"
   ]
  },
  {
   "cell_type": "code",
   "execution_count": 63,
   "id": "72c2b366",
   "metadata": {},
   "outputs": [
    {
     "name": "stdout",
     "output_type": "stream",
     "text": [
      "['F', 'u', 'n', 'c', 't', 'i', 'o', 'n', 'U', 'p', 'D', 'a', 't', 'a', 'A', 'n', 'a', 'l', 'y', 't', 'i', 'c', 's']\n"
     ]
    }
   ],
   "source": [
    "l2=l1[0]\n",
    "l3=l1[1]\n",
    "l4=l1[2]\n",
    "l6=l1[3]\n",
    "l5=[]\n",
    "for k in l2:\n",
    "    l5.append(k)\n",
    "for u in l3:\n",
    "    l5.append(u)\n",
    "for w in l4:\n",
    "    l5.append(w)\n",
    "for v in l6:\n",
    "    l5.append(v)\n",
    "print(l5)"
   ]
  },
  {
   "cell_type": "code",
   "execution_count": 67,
   "id": "f6baa0c4",
   "metadata": {},
   "outputs": [
    {
     "name": "stdout",
     "output_type": "stream",
     "text": [
      "[' Python' ' JAVA' ' Kotlin']\n",
      "['Python ' 'JAVA ' 'Kotlin ']\n",
      "['Python' 'JAVA' 'Kotlin']\n"
     ]
    }
   ],
   "source": [
    "#6)Write a NumPy program to remove the leading and trailing whitespaces of all the elements of a given array.\n",
    "course=np.array([' Python ',' JAVA ',' Kotlin '],dtype=str)\n",
    "bee=np.char.lstrip(course)\n",
    "bee1=np.char.rstrip(course)\n",
    "bee2=np.char.strip(course)\n",
    "print(bee1)\n",
    "print(bee)\n",
    "print(bee2)"
   ]
  },
  {
   "cell_type": "code",
   "execution_count": null,
   "id": "cd17ac11",
   "metadata": {},
   "outputs": [],
   "source": []
  }
 ],
 "metadata": {
  "kernelspec": {
   "display_name": "Python 3 (ipykernel)",
   "language": "python",
   "name": "python3"
  },
  "language_info": {
   "codemirror_mode": {
    "name": "ipython",
    "version": 3
   },
   "file_extension": ".py",
   "mimetype": "text/x-python",
   "name": "python",
   "nbconvert_exporter": "python",
   "pygments_lexer": "ipython3",
   "version": "3.11.1"
  }
 },
 "nbformat": 4,
 "nbformat_minor": 5
}
