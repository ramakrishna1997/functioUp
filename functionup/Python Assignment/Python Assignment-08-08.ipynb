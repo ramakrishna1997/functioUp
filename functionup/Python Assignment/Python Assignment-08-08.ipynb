{
 "cells": [
  {
   "cell_type": "code",
   "execution_count": 9,
   "id": "04743662",
   "metadata": {},
   "outputs": [
    {
     "name": "stdout",
     "output_type": "stream",
     "text": [
      "25\n"
     ]
    }
   ],
   "source": [
    "# 1)Write a lambda function to calculate the square of a given number.\n",
    "square=lambda x:x**2\n",
    "result=square(5)\n",
    "print(result)"
   ]
  },
  {
   "cell_type": "code",
   "execution_count": 11,
   "id": "b8726bad",
   "metadata": {},
   "outputs": [
    {
     "name": "stdout",
     "output_type": "stream",
     "text": [
      "6\n"
     ]
    }
   ],
   "source": [
    "# 2)Write a lambda function to find the maximum value in a list.\n",
    "find=lambda x:max(x)\n",
    "x=[2,3,4,5,6]\n",
    "res=find(x)\n",
    "print(res)"
   ]
  },
  {
   "cell_type": "code",
   "execution_count": 12,
   "id": "e770bd91",
   "metadata": {},
   "outputs": [
    {
     "name": "stdout",
     "output_type": "stream",
     "text": [
      "3.5\n"
     ]
    }
   ],
   "source": [
    "# 3)Write a lambda function to calculate the mean of a list.\n",
    "mean=lambda x: sum(x)/len(x)\n",
    "x=[1,2,3,4,5,6]\n",
    "me=mean(x)\n",
    "print(me)"
   ]
  },
  {
   "cell_type": "code",
   "execution_count": 13,
   "id": "b326ff96",
   "metadata": {},
   "outputs": [
    {
     "name": "stdout",
     "output_type": "stream",
     "text": [
      "['Hello', 'Cheddi', 'Buddy']\n"
     ]
    }
   ],
   "source": [
    "# 4)Write a lambda function to convert a list of strings to title case.\n",
    "name=lambda string: [word.title() for word in string]\n",
    "string=[\"hello\",\"cheddi\",\"buddy\"]\n",
    "title=name(string)\n",
    "print(title)"
   ]
  },
  {
   "cell_type": "code",
   "execution_count": 19,
   "id": "97580bec",
   "metadata": {},
   "outputs": [
    {
     "name": "stdout",
     "output_type": "stream",
     "text": [
      "['python']\n"
     ]
    }
   ],
   "source": [
    "# 5)Write a lambda function to filter words that contain a certain letter from a list of strings.\n",
    "string_name=[\"python\",\"C\",\"C++\",\"JAVA\"]\n",
    "letter='p'\n",
    "filt=list(filter(lambda string_name: letter in string_name,string_name))\n",
    "print(filt)"
   ]
  },
  {
   "cell_type": "code",
   "execution_count": 20,
   "id": "35071698",
   "metadata": {},
   "outputs": [
    {
     "name": "stdout",
     "output_type": "stream",
     "text": [
      "0.5\n"
     ]
    }
   ],
   "source": [
    "# 6)Write a lambda function to calculate the inverse of a number.\n",
    "inverse=lambda x: 1/x\n",
    "x=2\n",
    "calculate=inverse(x)\n",
    "print(calculate)"
   ]
  },
  {
   "cell_type": "code",
   "execution_count": 29,
   "id": "a01b46cf",
   "metadata": {},
   "outputs": [
    {
     "name": "stdout",
     "output_type": "stream",
     "text": [
      "354\n",
      "[23, 33, 55, 66, 78, 99]\n"
     ]
    }
   ],
   "source": [
    "# 7)Write a lambda function to sort a list based on the sum of the digits of the numbers.\n",
    "sort=lambda x: sorted(x)\n",
    "x=[23,66,78,33,99,55]\n",
    "l=sort(x)\n",
    "li=sum(sort(x))\n",
    "print(li)\n",
    "print(l)"
   ]
  },
  {
   "cell_type": "code",
   "execution_count": 26,
   "id": "5b0802cd",
   "metadata": {},
   "outputs": [
    {
     "name": "stdout",
     "output_type": "stream",
     "text": [
      "2.302585092994046\n"
     ]
    }
   ],
   "source": [
    "# 8)Write a lambda function to calculate the natural logarithm of a number.\n",
    "import numpy as np\n",
    "log= lambda x: np.log(x)\n",
    "x=10\n",
    "l=log(x)\n",
    "print(l)"
   ]
  },
  {
   "cell_type": "code",
   "execution_count": 34,
   "id": "23b94611",
   "metadata": {},
   "outputs": [
    {
     "name": "stdout",
     "output_type": "stream",
     "text": [
      "Enter the number :12\n",
      "Enter the number :5\n",
      "12 is cannot divisibe by 5\n"
     ]
    }
   ],
   "source": [
    "# 9)Write a lambda function to check if a number is divisible by another number.\n",
    "is_divisble= lambda num,divide: num%divide==0\n",
    "num=int(input(\"Enter the number :\"))\n",
    "divide=int(input(\"Enter the number :\"))\n",
    "if is_divisble(num,divide):\n",
    "    print(f\"{num} is divisibe by {divide}\")\n",
    "else:\n",
    "    print(f\"{num} is cannot divisibe by {divide}\")"
   ]
  },
  {
   "cell_type": "code",
   "execution_count": 37,
   "id": "75ae7398",
   "metadata": {},
   "outputs": [
    {
     "name": "stdout",
     "output_type": "stream",
     "text": [
      "['0x46', '0x63', '0x58', '0x42']\n"
     ]
    }
   ],
   "source": [
    "# 10)Write a lambda function to convert a list of integers to hexadecimal.\n",
    "he=lambda lst: list(map(hex,lst))\n",
    "lst=[70,99,88,66]\n",
    "hex_list=he(lst)\n",
    "print(hex_list)"
   ]
  },
  {
   "cell_type": "raw",
   "id": "ace651d3",
   "metadata": {},
   "source": [
    "Write a lambda function to check if a number is even or odd.\n",
    "Write a lambda function to extract the first word of a string.\n",
    "Write a lambda function to calculate the power of a number.\n",
    "Write a lambda function to filter words that end with a certain letter from a list of strings.\n",
    "Write a lambda function to remove duplicates from a list.\n",
    "Write a lambda function to convert a list of strings to lowercase.\n",
    "Write a lambda function to check if a number is negative.\n",
    "Write a lambda function to sort a list of tuples based on the second element.\n",
    "Write a lambda function to calculate the product of a list.\n",
    "Write a lambda function to filter words that are longer than a certain length from a list of strings.\n",
    "Write a lambda function to extract the last word of a string.\n",
    "Write a lambda function to calculate the cube of a number."
   ]
  },
  {
   "cell_type": "code",
   "execution_count": null,
   "id": "841d5cf7",
   "metadata": {},
   "outputs": [],
   "source": []
  }
 ],
 "metadata": {
  "kernelspec": {
   "display_name": "Python 3 (ipykernel)",
   "language": "python",
   "name": "python3"
  },
  "language_info": {
   "codemirror_mode": {
    "name": "ipython",
    "version": 3
   },
   "file_extension": ".py",
   "mimetype": "text/x-python",
   "name": "python",
   "nbconvert_exporter": "python",
   "pygments_lexer": "ipython3",
   "version": "3.11.1"
  }
 },
 "nbformat": 4,
 "nbformat_minor": 5
}
