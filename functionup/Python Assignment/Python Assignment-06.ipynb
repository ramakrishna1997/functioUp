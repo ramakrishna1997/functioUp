{
 "cells": [
  {
   "cell_type": "code",
   "execution_count": 121,
   "id": "f36c56b3",
   "metadata": {},
   "outputs": [
    {
     "name": "stdout",
     "output_type": "stream",
     "text": [
      "Enter the key : 1\n",
      "Enter the value A\n",
      "1 A\n"
     ]
    }
   ],
   "source": [
    "#1)Write a Python program to check if a specific Key and a value exist in a dictionary.\n",
    "dic={1:'A',2:'B',3:'C',4:'D'}\n",
    "key=int(input(\"Enter the key : \"))\n",
    "value=input(\"Enter the value \")\n",
    "if (key,value) in dic.items():\n",
    "    print(key,value)\n",
    "else:\n",
    "    print(\"Given key and value is does't not exist\")"
   ]
  },
  {
   "cell_type": "code",
   "execution_count": 122,
   "id": "7a3c7bdb",
   "metadata": {},
   "outputs": [
    {
     "name": "stdout",
     "output_type": "stream",
     "text": [
      "5\n"
     ]
    }
   ],
   "source": [
    "#2)Write a Python program to get the total length of all values of a given dictionary with string values.\n",
    "count=0\n",
    "di={1:'A',2:'B',3:'C',4:'D',5:\"E\"}\n",
    "for i in di.values():\n",
    "    count+=len(i)\n",
    "print(count)"
   ]
  },
  {
   "cell_type": "code",
   "execution_count": 123,
   "id": "6120ceb2",
   "metadata": {},
   "outputs": [
    {
     "name": "stdout",
     "output_type": "stream",
     "text": [
      "[1, [1, 3, 4, 5], 2, [5, 46, 77, 8], 3, [23, 44, 55, 66], 4, [234, 55, 66, 77]]\n"
     ]
    }
   ],
   "source": [
    "#3)Write a Python program to create a key-value list pairing in a given dictionary.\n",
    "d={1:[1,3,4,5],2:[5,46,77,8],3:[23,44,55,66],4:[234,55,66,77]}\n",
    "key_value=[]\n",
    "for (key,value) in d.items():\n",
    "    key_value.append(key)\n",
    "    key_value.append(value)\n",
    "print(key_value)"
   ]
  },
  {
   "cell_type": "code",
   "execution_count": 124,
   "id": "b7535f3a",
   "metadata": {},
   "outputs": [
    {
     "data": {
      "text/plain": [
       "{1: 'A', 2: 'B', 3: 'C', 4: 'D', 5: 'E', 6: 'F', 7: 'G'}"
      ]
     },
     "execution_count": 124,
     "metadata": {},
     "output_type": "execute_result"
    }
   ],
   "source": [
    "#4)Write a Python program to convert a given list of lists to a dictionary.\n",
    "li=[1,2,3,4,5,6,7]\n",
    "li1=['A','B','C','D','E','F','G']\n",
    "d1=zip(li,li1)\n",
    "convert=dict(d1)\n",
    "convert"
   ]
  },
  {
   "cell_type": "code",
   "execution_count": 125,
   "id": "32d4c634",
   "metadata": {},
   "outputs": [
    {
     "data": {
      "text/plain": [
       "[[1, 2, 3, 4], [3, 3, 4, 5, 6], [55, 77, 88, 99]]"
      ]
     },
     "execution_count": 125,
     "metadata": {},
     "output_type": "execute_result"
    }
   ],
   "source": [
    "#5)Write a Python program to extract values from a given dictionaries and create a list of lists from those values.\n",
    "extract={'A':[1,2,3,4],'B':[3,3,4,5,6],'C':[55,77,88,99]}\n",
    "lis=list(extract.values())\n",
    "lis"
   ]
  },
  {
   "cell_type": "code",
   "execution_count": 126,
   "id": "ee1ab3c3",
   "metadata": {},
   "outputs": [
    {
     "name": "stdout",
     "output_type": "stream",
     "text": [
      "('a', 1) 1\n",
      "('b', 2) 1\n",
      "('c', 3) 1\n",
      "('d', 4) 1\n",
      "('E', 5) 1\n"
     ]
    }
   ],
   "source": [
    "#6)Write a Python program to count the frequency in a given dictionary.\n",
    "count={'a':1,'b':2,'b':2,'c':3,'d':4,'E':5}\n",
    "feq={}\n",
    "for value in count.items():\n",
    "    if value not in feq:\n",
    "        feq[value]=1\n",
    "    else:\n",
    "        feq[value]+=1\n",
    "for key,value in feq.items():\n",
    "    print(key,value)"
   ]
  },
  {
   "cell_type": "code",
   "execution_count": 127,
   "id": "a13a1bcc",
   "metadata": {},
   "outputs": [
    {
     "name": "stdout",
     "output_type": "stream",
     "text": [
      "Jaguar\n",
      "210000\n"
     ]
    }
   ],
   "source": [
    "#7)Write a Python program to find the specified number of maximum values in a given dictionary.\n",
    "car = {'Audi':100, 'BMW':1292, 'Jaguar': 210000, 'Hyundai' : 88,'Farreri':210000}\n",
    "li=list(car.keys())\n",
    "lie=list(car.values())\n",
    "print(max(li))\n",
    "print(max(lie))"
   ]
  },
  {
   "cell_type": "code",
   "execution_count": 128,
   "id": "aa4f0985",
   "metadata": {},
   "outputs": [
    {
     "name": "stdout",
     "output_type": "stream",
     "text": [
      "[('AA', 'Puspha'), ('RC', 'RRR'), ('NTR', 'RRR'), ('Rishab', 'Kantara')]\n"
     ]
    }
   ],
   "source": [
    "#8)Write a Python program to get all combinations of key-value pairs in a given dictionary.\n",
    "d2={'AA':'Puspha','RC':'RRR','NTR':'RRR','Rishab':'Kantara'}\n",
    "d2\n",
    "combin=[]\n",
    "for combination in d2.items():\n",
    "    combin.append(combination)\n",
    "print(combin)"
   ]
  },
  {
   "cell_type": "code",
   "execution_count": 129,
   "id": "2c49c7b7",
   "metadata": {},
   "outputs": [
    {
     "name": "stdout",
     "output_type": "stream",
     "text": [
      "[2, 4, 6, 2, 4, 56, 84]\n"
     ]
    }
   ],
   "source": [
    "#9)Write a Python program to filter even numbers from a given dictionary values.\n",
    "even={'A':[1,2,3,4,5,6],'B':[2,3,4,56,77,84]}\n",
    "e=[]\n",
    "for value in even.values():\n",
    "    for i in value:\n",
    "        if i%2==0:\n",
    "            e.append(i)\n",
    "print(e)"
   ]
  },
  {
   "cell_type": "code",
   "execution_count": 130,
   "id": "39b410a2",
   "metadata": {},
   "outputs": [
    {
     "name": "stdout",
     "output_type": "stream",
     "text": [
      "{'Maths': 40, 'Python': 50, 'DSA': 75, 'JAVA': 80, 'other': [['C', 'C++'], [46, 45]]}\n"
     ]
    }
   ],
   "source": [
    "#10)Write a Python Dictionary contains List as value. Write a Python program to update the list values in the said dictionary.\n",
    "lie1=[40,50,75,80]\n",
    "lie2=['Maths','Python','DSA','JAVA']\n",
    "le=zip(lie2,lie1)\n",
    "mark=dict(le)\n",
    "\n",
    "#UPDATE list\n",
    "le4=[46,45]\n",
    "le5=['C','C++']\n",
    "mark['other']=[le5,le4]\n",
    "print(mark)"
   ]
  },
  {
   "cell_type": "code",
   "execution_count": 131,
   "id": "35a9f006",
   "metadata": {},
   "outputs": [
    {
     "data": {
      "text/plain": [
       "[40, 50, 75, 80, [['C', 'C++'], [46, 45]]]"
      ]
     },
     "execution_count": 131,
     "metadata": {},
     "output_type": "execute_result"
    }
   ],
   "source": [
    "#11)Write a Python Dictionary contains List as value. Write a Python program to clear the list values in the said dictionary.\n",
    "lie1=[40,50,75,80]\n",
    "lie2=['Maths','Python','DSA','JAVA']\n",
    "le=zip(lie2,lie1)\n",
    "mark=dict(le)\n",
    "\n",
    "#UPDATE list\n",
    "le4=[46,45]\n",
    "le5=['C','C++']\n",
    "mark['other']=[le5,le4]\n",
    "list2=list(mark.values())\n",
    "list2"
   ]
  },
  {
   "cell_type": "code",
   "execution_count": 132,
   "id": "7bac3519",
   "metadata": {},
   "outputs": [
    {
     "name": "stdout",
     "output_type": "stream",
     "text": [
      "100.0\n",
      "1292.0\n",
      "210000.0\n",
      "88.0\n"
     ]
    }
   ],
   "source": [
    "#12)Write a Python program to convert string values of a given dictionary, into integer/float datatypes\n",
    "car = {'Audi':'100', 'BMW':'1292', 'Jaguar': '210000', 'Hyundai' : '88'}\n",
    "for value in car.values():\n",
    "    convert=float(value)\n",
    "    print(convert)"
   ]
  },
  {
   "cell_type": "code",
   "execution_count": 133,
   "id": "4a3f7598",
   "metadata": {},
   "outputs": [
    {
     "name": "stdout",
     "output_type": "stream",
     "text": [
      "['Audi', 'BMW', 'Jaguar']\n"
     ]
    }
   ],
   "source": [
    "#13)Write a Python program to remove a specified dictionary from a given list.\n",
    "car = {'Audi':100, 'BMW':1292, 'Jaguar': 210000, 'Hyundai' : 88}\n",
    "my_di=[]\n",
    "for key in car.keys():\n",
    "    my_di.append(key)\n",
    "#print(my_di)\n",
    "my_di.pop()\n",
    "print(my_di)"
   ]
  },
  {
   "cell_type": "code",
   "execution_count": 134,
   "id": "8a07f26f",
   "metadata": {},
   "outputs": [
    {
     "name": "stdout",
     "output_type": "stream",
     "text": [
      "Original Dictionary:\n",
      "{'name': ['Alice', 'Bob', 'Charlie'], 'age': [25, 30, 35], 'gender': ['F', 'M', 'M']}\n",
      "\n",
      "List of Dictionaries:\n",
      "{'name': 'Alice', 'age': 25, 'gender': 'F'}\n",
      "{'name': 'Bob', 'age': 30, 'gender': 'M'}\n",
      "{'name': 'Charlie', 'age': 35, 'gender': 'M'}\n"
     ]
    }
   ],
   "source": [
    "#14)Write a Python program to split a given dictionary of lists into list of dictionaries.\n",
    "\n",
    "my_dict = {'name': ['Alice', 'Bob', 'Charlie'],\n",
    "           'age': [25, 30, 35],\n",
    "           'gender': ['F', 'M', 'M']}\n",
    "\n",
    "\n",
    "print(\"Original Dictionary:\")\n",
    "print(my_dict)\n",
    "\n",
    "\n",
    "def split_dict_of_lists(dict_obj):\n",
    "    # Get the keys and values from the dictionary\n",
    "    keys = list(dict_obj.keys())\n",
    "    values = list(dict_obj.values())\n",
    "\n",
    "   \n",
    "    length = len(values[0])\n",
    "\n",
    "    \n",
    "    list_of_dicts = []\n",
    "    for i in range(length):\n",
    "       \n",
    "        temp_dict = {}\n",
    "        for j in range(len(keys)):\n",
    "            temp_dict[keys[j]] = values[j][i]\n",
    "       \n",
    "        list_of_dicts.append(temp_dict)\n",
    "\n",
    "    return list_of_dicts\n",
    "\n",
    "\n",
    "list_of_dicts = split_dict_of_lists(my_dict)\n",
    "\n",
    "\n",
    "print(\"\\nList of Dictionaries:\")\n",
    "for dictionary in list_of_dicts:\n",
    "    print(dictionary)\n"
   ]
  },
  {
   "cell_type": "code",
   "execution_count": 135,
   "id": "9aeb755e",
   "metadata": {},
   "outputs": [
    {
     "name": "stdout",
     "output_type": "stream",
     "text": [
      "Original List:\n",
      "[('name', 'Alice'), ('age', 25), ('gender', 'F'), ('name', 'Bob'), ('age', 30), ('gender', 'M'), ('name', 'Charlie'), ('age', 35), ('gender', 'M')]\n",
      "\n",
      "Dictionary of Lists:\n",
      "{'name': ['Alice', 'Bob', 'Charlie'], 'age': [25, 30, 35], 'gender': ['F', 'M', 'M']}\n"
     ]
    }
   ],
   "source": [
    "#15)Write a Python program to create a dictionary grouping a sequence of key-value pairs into a dictionary of lists\n",
    "\n",
    "my_list = [('name', 'Alice'), ('age', 25), ('gender', 'F'),\n",
    "           ('name', 'Bob'), ('age', 30), ('gender', 'M'),\n",
    "           ('name', 'Charlie'), ('age', 35), ('gender', 'M')]\n",
    "\n",
    "\n",
    "print(\"Original List:\")\n",
    "print(my_list)\n",
    "\n",
    "\n",
    "def group_to_dict_of_lists(list_obj):\n",
    "    # Create an empty dictionary\n",
    "    dict_of_lists = {}\n",
    "\n",
    "    \n",
    "    for key, value in list_obj:\n",
    "        # If the key is not in the dictionary, add it with an empty list as the value\n",
    "        if key not in dict_of_lists:\n",
    "            dict_of_lists[key] = []\n",
    "\n",
    "        \n",
    "        dict_of_lists[key].append(value)\n",
    "\n",
    "    return dict_of_lists\n",
    "\n",
    "\n",
    "dict_of_lists = group_to_dict_of_lists(my_list)\n",
    "\n",
    "\n",
    "print(\"\\nDictionary of Lists:\")\n",
    "print(dict_of_lists)\n"
   ]
  },
  {
   "cell_type": "code",
   "execution_count": null,
   "id": "bd32b712",
   "metadata": {},
   "outputs": [],
   "source": []
  }
 ],
 "metadata": {
  "kernelspec": {
   "display_name": "Python 3 (ipykernel)",
   "language": "python",
   "name": "python3"
  },
  "language_info": {
   "codemirror_mode": {
    "name": "ipython",
    "version": 3
   },
   "file_extension": ".py",
   "mimetype": "text/x-python",
   "name": "python",
   "nbconvert_exporter": "python",
   "pygments_lexer": "ipython3",
   "version": "3.9.13"
  }
 },
 "nbformat": 4,
 "nbformat_minor": 5
}
