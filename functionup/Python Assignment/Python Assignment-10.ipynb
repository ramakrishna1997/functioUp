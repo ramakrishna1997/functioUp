{
 "cells": [
  {
   "cell_type": "code",
   "execution_count": 60,
   "id": "277f5e2e",
   "metadata": {},
   "outputs": [
    {
     "name": "stdout",
     "output_type": "stream",
     "text": [
      "Dictionary is empty\n"
     ]
    }
   ],
   "source": [
    "# 1)Write a Python program to check a dictionary is empty or not\n",
    "dic={}\n",
    "if len(dic)<1:\n",
    "    print(\"Dictionary is empty\")\n",
    "else:\n",
    "    print(\"Dictionary is not empty\")\n"
   ]
  },
  {
   "cell_type": "code",
   "execution_count": 61,
   "id": "8b4f1419",
   "metadata": {},
   "outputs": [
    {
     "name": "stdout",
     "output_type": "stream",
     "text": [
      "{'A': 1, 'C': 2, 'D': 3}\n"
     ]
    }
   ],
   "source": [
    "#2)Write a Python program to remove duplicates from Dictionary.\n",
    "dic={\"A\":1,\"B\":1,\"C\":2,\"D\":3,\"E\":3}\n",
    "temp=[]\n",
    "res={}\n",
    "for key,value in dic.items():\n",
    "    if value not in temp:\n",
    "        temp.append(value)\n",
    "        res[key]=value\n",
    "print(res)\n",
    "    "
   ]
  },
  {
   "cell_type": "code",
   "execution_count": 62,
   "id": "a772330a",
   "metadata": {},
   "outputs": [
    {
     "name": "stdout",
     "output_type": "stream",
     "text": [
      "{'A': 1, 'B': 2, 'C': 3, 'D': 4}\n"
     ]
    }
   ],
   "source": [
    "# 3}Write a Python program to get a dictionary from an object's fields\n",
    "class A:\n",
    "    def __init__(self):\n",
    "        self.A=1\n",
    "        self.B=2\n",
    "        self.C=3\n",
    "        self.D=4\n",
    "obj=A()\n",
    "print(vars(obj))\n",
    "        "
   ]
  },
  {
   "cell_type": "code",
   "execution_count": 63,
   "id": "956e1d20",
   "metadata": {},
   "outputs": [
    {
     "name": "stdout",
     "output_type": "stream",
     "text": [
      "the maximum values of 250\n",
      "The Minimum values of 15\n"
     ]
    }
   ],
   "source": [
    "#4)Write a Python program to get the maximum and minimum value in a dictionary.\n",
    "shop={\"Rin soap\":59,\"Chocalate\":150,\"Ice creame\":250,\"Water can\":15}\n",
    "values=shop.values()\n",
    "print(f'the maximum values of {max(values)}')\n",
    "print(f'The Minimum values of {min(values)}')"
   ]
  },
  {
   "cell_type": "code",
   "execution_count": 64,
   "id": "d582e2c8",
   "metadata": {},
   "outputs": [
    {
     "name": "stdout",
     "output_type": "stream",
     "text": [
      "[35, 40]\n",
      "[40, 35]\n"
     ]
    }
   ],
   "source": [
    "# 5)Write a Python script to sort (ascending and descending) a dictionary by Values\n",
    "course={\"Python\":40,\"Data Science\":35}\n",
    "Aescending=list(course.values())\n",
    "Descending=list(course.values())\n",
    "print(Aescending[::-1])\n",
    "print(Descending)"
   ]
  },
  {
   "cell_type": "code",
   "execution_count": 65,
   "id": "b248827e",
   "metadata": {},
   "outputs": [
    {
     "data": {
      "text/plain": [
       "{'Apple': 15, 'Orange': 20, 'Mango': 30}"
      ]
     },
     "execution_count": 65,
     "metadata": {},
     "output_type": "execute_result"
    }
   ],
   "source": [
    "# 6)Write a Python script to add a key to a dictionary.\n",
    "juice={\"Apple\":15,\"Orange\":20}\n",
    "juice[\"Mango\"]=30\n",
    "juice"
   ]
  },
  {
   "cell_type": "code",
   "execution_count": 66,
   "id": "a778d16e",
   "metadata": {},
   "outputs": [
    {
     "data": {
      "text/plain": [
       "{'Python': 25, 'Java': 55, 'Go': 60, 'Andorid': 90}"
      ]
     },
     "execution_count": 66,
     "metadata": {},
     "output_type": "execute_result"
    }
   ],
   "source": [
    "# 7)Write a Python script to concatenate following dictionaries to create a new one.\n",
    "dic1={\"Python\":25,\"Java\":55}\n",
    "dic2={\"Go\":60,\"Andorid\":90}\n",
    "dic3={}\n",
    "dic3.update(dic1)\n",
    "dic3.update(dic2)\n",
    "dic3"
   ]
  },
  {
   "cell_type": "code",
   "execution_count": null,
   "id": "c53acc20",
   "metadata": {},
   "outputs": [],
   "source": []
  },
  {
   "cell_type": "code",
   "execution_count": null,
   "id": "6df3bbd3",
   "metadata": {},
   "outputs": [],
   "source": []
  }
 ],
 "metadata": {
  "kernelspec": {
   "display_name": "Python 3 (ipykernel)",
   "language": "python",
   "name": "python3"
  },
  "language_info": {
   "codemirror_mode": {
    "name": "ipython",
    "version": 3
   },
   "file_extension": ".py",
   "mimetype": "text/x-python",
   "name": "python",
   "nbconvert_exporter": "python",
   "pygments_lexer": "ipython3",
   "version": "3.11.1"
  }
 },
 "nbformat": 4,
 "nbformat_minor": 5
}
