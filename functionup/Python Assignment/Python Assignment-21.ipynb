{
 "cells": [
  {
   "cell_type": "code",
   "execution_count": 3,
   "id": "39aef13f",
   "metadata": {},
   "outputs": [
    {
     "name": "stdout",
     "output_type": "stream",
     "text": [
      "line1\n",
      "\n",
      "line2\n",
      "\n",
      "line3\n",
      "\n",
      "line4\n",
      "\n",
      "line5\n",
      "\n",
      "line6\n",
      "\n",
      "line7\n"
     ]
    }
   ],
   "source": [
    "# How do you open a file for reading in Python?\n",
    "def read_csv():\n",
    "    with open(r\"C:\\Users\\Ramakrishna\\Desktop\\functionup\\Python Assignment\\Demon.txt\",mode='r') as file:\n",
    "        for line in file:\n",
    "            print(line)\n",
    "read_csv()"
   ]
  },
  {
   "cell_type": "code",
   "execution_count": 6,
   "id": "b49a8b39",
   "metadata": {},
   "outputs": [],
   "source": [
    "# How do you open a file for writing in Python?\n",
    "def write_file():\n",
    "    with open(\"welcome.txt\",mode=\"w\",encoding=\"utf-8\") as f:\n",
    "        paragraph=\"\"\"The following illustrates how to write a string to a text file:\n",
    "\n",
    "with open('readme.txt', 'w') as f:\n",
    "    f.write('readme')\n",
    "Code language: JavaScript (javascript)\n",
    "Steps for writing to text files\n",
    "To write to a text file in Python, you follow these steps:\n",
    "\n",
    "First, open the text file for writing (or append) using the open() function.\n",
    "Second, write to the text file using the write() or writelines() method.\n",
    "Third, close the file using the close() method.\n",
    "The following shows the basic syntax of the open() function:\n",
    "\n",
    "f = open(file, mode)\n",
    "The open() function accepts many parameters. But you’ll focus on the first two:\n",
    "\n",
    "The file parameter specifies the path to the text file that you want to open for writing.\n",
    "The mode parameter specifies the mode for which you want to open the text file.\n",
    "For writing to a text file, you use one of the following modes:\n",
    "\n",
    "Mode\tDescription\n",
    "'w'\tOpen a text file for writing. If the file exists, the function will truncate all the contents as soon as you open it. If the file doesn’t exist, the function creates a new file.\n",
    "'a'\tOpen a text file for appending text. If the file exists, the function append contents at the end of the file.\n",
    "‘+’\tOpen a text file for updating (both reading & writing).\n",
    "The open() function returns a file object that has two useful methods for writing text to the file: write() and writelines().\n",
    "\n",
    "The write() method writes a string to a text file.\n",
    "The writelines() method write a list of strings to a file at once.\n",
    "The writelines() method accepts an iterable object, not just a list, so you can pass a tuple of strings, a set of strings, etc., to the writelines() method.\n",
    "\n",
    "To write a line to a text file, you need to manually add a new line character:\n",
    "\n",
    "f.write('\\n')\n",
    "f.writelines('\\n')\n",
    "Code language: JavaScript (javascript)\n",
    "Writing text file examples\n",
    "The following example shows how to use the write() function to write a list of texts to a text file:\n",
    "\n",
    "lines = ['Readme', 'How to write text files in Python']\n",
    "with open('readme.txt', 'w') as f:\n",
    "    for line in lines:\n",
    "        f.write(line)\n",
    "        f.write('\\n')\n",
    "Code language: JavaScript (javascript)\n",
    "If the readme.txt file doesn’t exist, the open() function will create a new file.\n",
    "\n",
    "\n",
    "The following shows how to write a list of text strings to a text file:\n",
    "\n",
    "lines = ['Readme', 'How to write text files in Python']\n",
    "with open('readme.txt', 'w') as f:\n",
    "    f.writelines(lines)\n",
    "Code language: JavaScript (javascript)\n",
    "If you treat each element of the list as a line, you need to concatenate it with the newline character like this:\n",
    "\n",
    "lines = ['Readme', 'How to write text files in Python']\n",
    "with open('readme.txt', 'w') as f:\n",
    "    f.write('\\n'.join(lines))\n",
    "Code language: JavaScript (javascript)\n",
    "\n",
    "Appending text files\n",
    "To append to a text file, you need to open the text file for appending mode. The following example appends new lines to the readme.txt file:\n",
    "\n",
    "more_lines = ['', 'Append text files', 'The End']\n",
    "\n",
    "with open('readme.txt', 'a') as f:\n",
    "    f.write('\\n'.join(more_lines))\n",
    "Code language: JavaScript (javascript)\n",
    "Output:\n",
    "\n",
    "\n",
    "Writing to a UTF-8 text file\n",
    "If you write UTF-8 characters to a text file using the code from the previous examples, you’ll get an error like this:\n",
    "\n",
    "UnicodeEncodeError: 'charmap' codec can't encode characters in position 0-44: character maps to <undefined>\n",
    "Code language: HTML, XML (xml)\n",
    "To open a file and write UTF-8 characters to a file, you need to pass the encoding='utf-8' parameter to the open() function.\n",
    "\n",
    "The following example shows how to write UTF-8 characters to a text file:\n",
    "\n",
    "\n",
    "quote = '成功を収める人とは人が投げてきたレンガでしっかりした基盤を築くことができる人のことである。'\n",
    "\n",
    "with open('quotes.txt', 'w', encoding='utf-8') as f:\n",
    "    f.write(quote)\n",
    "Code language: JavaScript (javascript)\n",
    "Summary\n",
    "Use the open() function with the w or a mode to open a text file for appending.\n",
    "Always close the file after completing writing using the close() method or use the with statement when opening the file.\n",
    "Use write() and writelines() methods to write to a text file.\n",
    "Pass the encoding='utf-8' to the open() function to write UTF-8 characters into a file.\"\"\"\n",
    "        f.write(paragraph)\n",
    "write_file()"
   ]
  },
  {
   "cell_type": "code",
   "execution_count": 11,
   "id": "7bbca3eb",
   "metadata": {},
   "outputs": [
    {
     "name": "stdout",
     "output_type": "stream",
     "text": [
      "The following illustrates how to write a string to a text file:\n",
      "\n",
      "with open('readme.txt', 'w') as f:\n",
      "    f.write('readme')\n",
      "Code language: JavaScript (javascript)\n",
      "Steps for writing to text files\n",
      "To write to a text file in Python, you follow these steps:\n",
      "\n",
      "First, open the text file for writing (or append) using the open() function.\n",
      "Second, write to the text file using the write() or writelines() method.\n",
      "Third, close the file using the close() method.\n",
      "The following shows the basic syntax of the open() function:\n",
      "\n",
      "f = open(file, mode)\n",
      "The open() function accepts many parameters. But you’ll focus on the first two:\n",
      "\n",
      "The file parameter specifies the path to the text file that you want to open for writing.\n",
      "The mode parameter specifies the mode for which you want to open the text file.\n",
      "For writing to a text file, you use one of the following modes:\n",
      "\n",
      "Mode\tDescription\n",
      "'w'\tOpen a text file for writing. If the file exists, the function will truncate all the contents as soon as you open it. If the file doesn’t exist, the function creates a new file.\n",
      "'a'\tOpen a text file for appending text. If the file exists, the function append contents at the end of the file.\n",
      "‘+’\tOpen a text file for updating (both reading & writing).\n",
      "The open() function returns a file object that has two useful methods for writing text to the file: write() and writelines().\n",
      "\n",
      "The write() method writes a string to a text file.\n",
      "The writelines() method write a list of strings to a file at once.\n",
      "The writelines() method accepts an iterable object, not just a list, so you can pass a tuple of strings, a set of strings, etc., to the writelines() method.\n",
      "\n",
      "To write a line to a text file, you need to manually add a new line character:\n",
      "\n",
      "f.write('\n",
      "')\n",
      "f.writelines('\n",
      "')\n",
      "Code language: JavaScript (javascript)\n",
      "Writing text file examples\n",
      "The following example shows how to use the write() function to write a list of texts to a text file:\n",
      "\n",
      "lines = ['Readme', 'How to write text files in Python']\n",
      "with open('readme.txt', 'w') as f:\n",
      "    for line in lines:\n",
      "        f.write(line)\n",
      "        f.write('\n",
      "')\n",
      "Code language: JavaScript (javascript)\n",
      "If the readme.txt file doesn’t exist, the open() function will create a new file.\n",
      "\n",
      "\n",
      "The following shows how to write a list of text strings to a text file:\n",
      "\n",
      "lines = ['Readme', 'How to write text files in Python']\n",
      "with open('readme.txt', 'w') as f:\n",
      "    f.writelines(lines)\n",
      "Code language: JavaScript (javascript)\n",
      "If you treat each element of the list as a line, you need to concatenate it with the newline character like this:\n",
      "\n",
      "lines = ['Readme', 'How to write text files in Python']\n",
      "with open('readme.txt', 'w') as f:\n",
      "    f.write('\n",
      "'.join(lines))\n",
      "Code language: JavaScript (javascript)\n",
      "\n",
      "Appending text files\n",
      "To append to a text file, you need to open the text file for appending mode. The following example appends new lines to the readme.txt file:\n",
      "\n",
      "more_lines = ['', 'Append text files', 'The End']\n",
      "\n",
      "with open('readme.txt', 'a') as f:\n",
      "    f.write('\n",
      "'.join(more_lines))\n",
      "Code language: JavaScript (javascript)\n",
      "Output:\n",
      "\n",
      "\n",
      "Writing to a UTF-8 text file\n",
      "If you write UTF-8 characters to a text file using the code from the previous examples, you’ll get an error like this:\n",
      "\n",
      "UnicodeEncodeError: 'charmap' codec can't encode characters in position 0-44: character maps to <undefined>\n",
      "Code language: HTML, XML (xml)\n",
      "To open a file and write UTF-8 characters to a file, you need to pass the encoding='utf-8' parameter to the open() function.\n",
      "\n",
      "The following example shows how to write UTF-8 characters to a text file:\n",
      "\n",
      "\n",
      "quote = '成功を収める人とは人が投げてきたレンガでしっかりした基盤を築くことができる人のことである。'\n",
      "\n",
      "with open('quotes.txt', 'w', encoding='utf-8') as f:\n",
      "    f.write(quote)\n",
      "Code language: JavaScript (javascript)\n",
      "Summary\n",
      "Use the open() function with the w or a mode to open a text file for appending.\n",
      "Always close the file after completing writing using the close() method or use the with statement when opening the file.\n",
      "Use write() and writelines() methods to write to a text file.\n",
      "Pass the encoding='utf-8' to the open() function to write UTF-8 characters into a file.\n"
     ]
    }
   ],
   "source": [
    "# How do you read the contents of a file in Python?\n",
    "def read_content():\n",
    "    with open(\"welcome.txt\",mode='r',encoding=\"utf-8\") as f:\n",
    "        content=f.read()\n",
    "        print(content)\n",
    "read_content()"
   ]
  },
  {
   "cell_type": "code",
   "execution_count": 16,
   "id": "427e2cd4",
   "metadata": {},
   "outputs": [],
   "source": [
    "# How do you write to a file in Python?\n",
    "f=open(\"welcome.txt\",mode=\"a\")\n",
    "f.write(\"now python is most powerful\")\n",
    "f.close()"
   ]
  },
  {
   "cell_type": "code",
   "execution_count": 20,
   "id": "b72b317e",
   "metadata": {},
   "outputs": [],
   "source": [
    "# How do you close a file in Python?\n",
    "f=open(\"Demon.txt\",mode='r')\n",
    "f.read()\n",
    "f.close()"
   ]
  },
  {
   "cell_type": "code",
   "execution_count": 21,
   "id": "947da5c7",
   "metadata": {},
   "outputs": [
    {
     "name": "stdout",
     "output_type": "stream",
     "text": [
      "Sorry, the file John.txtdoes not exist.\n"
     ]
    }
   ],
   "source": [
    "# How do you handle errors while reading or writing a file in Python?\n",
    "filename = 'John.txt'\n",
    "try:\n",
    "    with open(filename) as f_obj:\n",
    "        contents = f_obj.read()\n",
    "except FileNotFoundError:\n",
    "    msg = \"Sorry, the file \"+ filename + \"does not exist.\"\n",
    "    print(msg) "
   ]
  },
  {
   "cell_type": "code",
   "execution_count": 23,
   "id": "fa15518f",
   "metadata": {},
   "outputs": [
    {
     "name": "stdout",
     "output_type": "stream",
     "text": [
      "l i n e 1 \n",
      " l i n e 2 \n",
      " l i n e 3 \n",
      " l i n e 4 \n",
      " l i n e 5 \n",
      " l i n e 6 \n",
      " l i n e 7 "
     ]
    }
   ],
   "source": [
    "f=open(\"Demon.txt\",mode='r')\n",
    "for li in f.read():\n",
    "    print(li,end=\" \")"
   ]
  },
  {
   "cell_type": "code",
   "execution_count": 28,
   "id": "d4fdc071",
   "metadata": {},
   "outputs": [
    {
     "name": "stdout",
     "output_type": "stream",
     "text": [
      "line1\n",
      "\n",
      "line2\n",
      "\n",
      "line3\n",
      "\n",
      "line4\n",
      "\n",
      "line5\n",
      "\n",
      "line6\n",
      "\n",
      "line7\\line8\n"
     ]
    }
   ],
   "source": [
    "# How do you use the \"with\" statement for file handling in Python?\n",
    "def openfile():\n",
    "    with open(\"Demon.txt\",mode='r') as file:\n",
    "        for line in file:\n",
    "            print(line)\n",
    "openfile()"
   ]
  },
  {
   "cell_type": "code",
   "execution_count": 27,
   "id": "15c40439",
   "metadata": {},
   "outputs": [],
   "source": [
    "def append():\n",
    "    f=open(\"Demon.txt\",mode='a')\n",
    "    f.write(\"\\line8\")\n",
    "    f.close()\n",
    "append()"
   ]
  },
  {
   "cell_type": "code",
   "execution_count": 34,
   "id": "8f2945ae",
   "metadata": {},
   "outputs": [
    {
     "name": "stdout",
     "output_type": "stream",
     "text": [
      "False\n"
     ]
    }
   ],
   "source": [
    "# How do you use the \"os\" module for file handling in Python, for example, to check if a file exists or to create a directory?\n",
    "import os\n",
    "def check_file():\n",
    "    check_file=os.path.isfile(\"king.txt\")\n",
    "    print(check_file)\n",
    "check_file()"
   ]
  },
  {
   "cell_type": "code",
   "execution_count": null,
   "id": "487a5e71",
   "metadata": {},
   "outputs": [],
   "source": []
  },
  {
   "cell_type": "code",
   "execution_count": null,
   "id": "0137a2d0",
   "metadata": {},
   "outputs": [],
   "source": []
  }
 ],
 "metadata": {
  "kernelspec": {
   "display_name": "Python 3 (ipykernel)",
   "language": "python",
   "name": "python3"
  },
  "language_info": {
   "codemirror_mode": {
    "name": "ipython",
    "version": 3
   },
   "file_extension": ".py",
   "mimetype": "text/x-python",
   "name": "python",
   "nbconvert_exporter": "python",
   "pygments_lexer": "ipython3",
   "version": "3.11.1"
  }
 },
 "nbformat": 4,
 "nbformat_minor": 5
}
