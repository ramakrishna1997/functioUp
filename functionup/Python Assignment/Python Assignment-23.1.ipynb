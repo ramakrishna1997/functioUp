{
 "cells": [
  {
   "cell_type": "raw",
   "id": "492eaabe",
   "metadata": {},
   "source": [
    "Write a lambda function to remove punctuation from a string.\n",
    "Write a lambda function to calculate the absolute value of a number.\n",
    "Write a lambda function to check if a string contains a certain substring.\n",
    "Write a lambda function to convert a string to lowercase.\n",
    "Write a lambda function to check if a number is prime.\n",
    "Write a lambda function to sort a list in descending order.\n",
    "Write a lambda function to calculate the standard deviation of a list.\n",
    "Write a lambda function to filter unique values from a list.\n",
    "Write a lambda function to convert a list of strings to integers.\n",
    "Write a lambda function to concatenate two strings.\n",
    "Write a lambda function to calculate the median of a list.\n",
    "Write a lambda function to filter words that start with a certain letter from a list of strings.\n",
    "Write a lambda function to check if a string is a palindrome.\n",
    "Write a lambda function to reverse a string.\n",
    "Write a lambda function to calculate the factorial of a number.\n",
    "Write a lambda function to calculate the sum of the digits of a number."
   ]
  },
  {
   "cell_type": "code",
   "execution_count": 3,
   "id": "890a0b12",
   "metadata": {},
   "outputs": [
    {
     "name": "stdout",
     "output_type": "stream",
     "text": [
      "hello world\n"
     ]
    }
   ],
   "source": [
    "# 1)Write a lambda function to remove punctuation from a string.\n",
    "import string\n",
    "remove_punctuation= lambda text: text.translate(str.maketrans(\"\",\"\",string.punctuation))\n",
    "text=\"hello world?\"\n",
    "clean_text=remove_punctuation(text)\n",
    "print(clean_text)"
   ]
  },
  {
   "cell_type": "code",
   "execution_count": 5,
   "id": "033a9060",
   "metadata": {},
   "outputs": [
    {
     "name": "stdout",
     "output_type": "stream",
     "text": [
      "44\n"
     ]
    }
   ],
   "source": [
    "# 2)Write a lambda function to calculate the absolute value of a number.\n",
    "num=lambda x: abs(x)\n",
    "x=-44\n",
    "absolut=num(x)\n",
    "print(absolut)"
   ]
  },
  {
   "cell_type": "code",
   "execution_count": 12,
   "id": "a0f2bc6d",
   "metadata": {},
   "outputs": [
    {
     "name": "stdout",
     "output_type": "stream",
     "text": [
      "False\n"
     ]
    }
   ],
   "source": [
    "# 3)Write a lambda function to check if a string contains a certain substring.\n",
    "x=\"hello world\"\n",
    "y=\"king\"\n",
    "check_string=lambda x,y: y in x\n",
    "result=check_string(x,y)\n",
    "print(result)"
   ]
  },
  {
   "cell_type": "code",
   "execution_count": 13,
   "id": "1bb3006a",
   "metadata": {},
   "outputs": [
    {
     "name": "stdout",
     "output_type": "stream",
     "text": [
      "rama\n"
     ]
    }
   ],
   "source": [
    "# 4)Write a lambda function to convert a string to lowercase.\n",
    "lower=lambda x: x.lower()\n",
    "name=\"RAMA\"\n",
    "convert_string=lower(name)\n",
    "print(convert_string)"
   ]
  },
  {
   "cell_type": "code",
   "execution_count": 14,
   "id": "1480dc74",
   "metadata": {},
   "outputs": [
    {
     "name": "stdout",
     "output_type": "stream",
     "text": [
      "True\n"
     ]
    }
   ],
   "source": [
    "# 5)Write a lambda function to check if a number is prime.\n",
    "prime=lambda x: n>1 and all(n%i !=0 for i in range(2,n))\n",
    "n=17\n",
    "is_prime=prime(n)\n",
    "print(is_prime)"
   ]
  },
  {
   "cell_type": "code",
   "execution_count": 15,
   "id": "acc5f9b4",
   "metadata": {},
   "outputs": [
    {
     "name": "stdout",
     "output_type": "stream",
     "text": [
      "[98, 78, 86, 44, 33, 22, 1]\n"
     ]
    }
   ],
   "source": [
    "# 6)Write a lambda function to sort a list in descending order.\n",
    "x=[1,22,33,44,86,78,98]\n",
    "sort=lambda x: x[::-1]\n",
    "sort_desc=sort(x)\n",
    "print(sort_desc)"
   ]
  },
  {
   "cell_type": "code",
   "execution_count": 17,
   "id": "0c47ceeb",
   "metadata": {},
   "outputs": [
    {
     "name": "stdout",
     "output_type": "stream",
     "text": [
      "23.576344076213346\n"
     ]
    }
   ],
   "source": [
    "import numpy as np\n",
    "# 7)Write a lambda function to calculate the standard deviation of a list.\n",
    "y=[23,44.5,66.10,88.9,34]\n",
    "std=lambda y: np.std(y)\n",
    "standard_deviation=std(y)\n",
    "print(standard_deviation)"
   ]
  },
  {
   "cell_type": "code",
   "execution_count": 18,
   "id": "f2222785",
   "metadata": {},
   "outputs": [
    {
     "name": "stdout",
     "output_type": "stream",
     "text": [
      "[1, 2, 3, 4, 5, 6, 7, 8, 9]\n"
     ]
    }
   ],
   "source": [
    "# 8)Write a lambda function to filter unique values from a list.\n",
    "z=[1,1,2,3,4,5,5,6,7,8,8,9,9]\n",
    "unique=lambda z: list(set(z))\n",
    "unique_values=unique(z)\n",
    "print(unique_values)"
   ]
  },
  {
   "cell_type": "code",
   "execution_count": 19,
   "id": "c02e697a",
   "metadata": {},
   "outputs": [
    {
     "name": "stdout",
     "output_type": "stream",
     "text": [
      "[1, 2, 3, 4, 5]\n"
     ]
    }
   ],
   "source": [
    "# 9)Write a lambda function to convert a list of strings to integers.\n",
    "lst=[\"1\",\"2\",\"3\",\"4\",\"5\"]\n",
    "l=lambda lst: [int(x) for x in lst]\n",
    "convert_list=l(lst)\n",
    "print(convert_list)"
   ]
  },
  {
   "cell_type": "code",
   "execution_count": 22,
   "id": "96db7941",
   "metadata": {},
   "outputs": [
    {
     "name": "stdout",
     "output_type": "stream",
     "text": [
      "Rama Krishna Killi\n"
     ]
    }
   ],
   "source": [
    "# 10)Write a lambda function to concatenate two strings\n",
    "first=\"Rama Krishna\"\n",
    "last=\"Killi\"\n",
    "full_name=lambda first,last: first+\" \"+last\n",
    "full=full_name(first,last)\n",
    "print(full)"
   ]
  },
  {
   "cell_type": "code",
   "execution_count": 23,
   "id": "ceb27704",
   "metadata": {},
   "outputs": [
    {
     "name": "stdout",
     "output_type": "stream",
     "text": [
      "67.25\n"
     ]
    }
   ],
   "source": [
    "# 11)Write a lambda function to calculate the median of a list.\n",
    "ls=[23,44.44,55.6,78.9,100.1,88.6]\n",
    "med=lambda ls: np.median(ls)\n",
    "median=med(ls)\n",
    "print(median)"
   ]
  },
  {
   "cell_type": "code",
   "execution_count": 34,
   "id": "ecca32ba",
   "metadata": {},
   "outputs": [
    {
     "name": "stdout",
     "output_type": "stream",
     "text": [
      "['apple']\n"
     ]
    }
   ],
   "source": [
    "# 12)Write a lambda function to filter words that start with a certain letter from a list of strings.\n",
    "words = [\"apple\", \"graphs\", \"horse\", \"bike\"]\n",
    "letter = 'a'\n",
    "filter_words_starting_with = lambda words, letter: list(filter(lambda word: word.startswith(letter), words))\n",
    "filtered_words = filter_words_starting_with(words, letter)\n",
    "print(filtered_words)"
   ]
  },
  {
   "cell_type": "code",
   "execution_count": 42,
   "id": "656cd39b",
   "metadata": {},
   "outputs": [
    {
     "name": "stdout",
     "output_type": "stream",
     "text": [
      "True\n"
     ]
    }
   ],
   "source": [
    "# 13)Write a lambda function to check if a string is a palindrome.\n",
    "x=121\n",
    "con=str(x)\n",
    "reverse=con[::-1]\n",
    "pali=lambda con,reverse: con==reverse\n",
    "palindrome=pali(con,reverse)\n",
    "print(palindrome)"
   ]
  },
  {
   "cell_type": "code",
   "execution_count": 43,
   "id": "f29759dc",
   "metadata": {},
   "outputs": [
    {
     "name": "stdout",
     "output_type": "stream",
     "text": [
      "nohtyP\n"
     ]
    }
   ],
   "source": [
    "# 14)Write a lambda function to reverse a string.\n",
    "name=\"Python\"\n",
    "rever=lambda name: name[::-1]\n",
    "revers_name=rever(name)\n",
    "print(revers_name)"
   ]
  },
  {
   "cell_type": "code",
   "execution_count": 50,
   "id": "bdce06d0",
   "metadata": {},
   "outputs": [
    {
     "name": "stdout",
     "output_type": "stream",
     "text": [
      "Enter the number 12\n",
      "1307674368000\n"
     ]
    }
   ],
   "source": [
    "# 15)Write a lambda function to calculate the factorial of a number.\n",
    "from functools import reduce\n",
    "fact=reduce(lambda x,y: x*y,range(1,n-1))\n",
    "x=int(input(\"Enter the number \"))\n",
    "print(fact)"
   ]
  },
  {
   "cell_type": "code",
   "execution_count": 80,
   "id": "79251fb3",
   "metadata": {},
   "outputs": [
    {
     "name": "stdout",
     "output_type": "stream",
     "text": [
      "7\n"
     ]
    }
   ],
   "source": [
    "# 16)Write a lambda function to calculate the sum of the digits of a number.\n",
    "n=2345678\n",
    "su=lambda n: sum(ind(d) for d in str(n))\n",
    "count_dig=lambda n: len(str(n))\n",
    "dig=count_dig(n)\n",
    "print(dig)"
   ]
  },
  {
   "cell_type": "code",
   "execution_count": null,
   "id": "0f55fdd8",
   "metadata": {},
   "outputs": [],
   "source": []
  },
  {
   "cell_type": "code",
   "execution_count": null,
   "id": "4d7b61e2",
   "metadata": {},
   "outputs": [],
   "source": []
  },
  {
   "cell_type": "code",
   "execution_count": null,
   "id": "0965c6c5",
   "metadata": {},
   "outputs": [],
   "source": []
  },
  {
   "cell_type": "code",
   "execution_count": null,
   "id": "f8662a4c",
   "metadata": {},
   "outputs": [],
   "source": []
  }
 ],
 "metadata": {
  "kernelspec": {
   "display_name": "Python 3 (ipykernel)",
   "language": "python",
   "name": "python3"
  },
  "language_info": {
   "codemirror_mode": {
    "name": "ipython",
    "version": 3
   },
   "file_extension": ".py",
   "mimetype": "text/x-python",
   "name": "python",
   "nbconvert_exporter": "python",
   "pygments_lexer": "ipython3",
   "version": "3.11.1"
  }
 },
 "nbformat": 4,
 "nbformat_minor": 5
}
